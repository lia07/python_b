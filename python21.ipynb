{
  "nbformat": 4,
  "nbformat_minor": 0,
  "metadata": {
    "colab": {
      "provenance": [],
      "authorship_tag": "ABX9TyOoCn4/oEsRlurZ1s88syDB",
      "include_colab_link": true
    },
    "kernelspec": {
      "name": "python3",
      "display_name": "Python 3"
    }
  },
  "cells": [
    {
      "cell_type": "markdown",
      "metadata": {
        "id": "view-in-github",
        "colab_type": "text"
      },
      "source": [
        "<a href=\"https://colab.research.google.com/github/lia07/python_b/blob/main/python21.ipynb\" target=\"_parent\"><img src=\"https://colab.research.google.com/assets/colab-badge.svg\" alt=\"Open In Colab\"/></a>"
      ]
    },
    {
      "cell_type": "markdown",
      "metadata": {
        "id": "Grdnrb8QElIG"
      },
      "source": []
    },
    {
      "cell_type": "code",
      "metadata": {
        "id": "x9tbCX_ss77E"
      },
      "source": [
        "#arbolito.py\n",
        "import turtle\n",
        "\n",
        "screen = turtle.Screen()\n",
        "screen.setup(800, 600)\n",
        "\n",
        "circle = turtle.Turtle()\n",
        "circle.shape('circle')\n",
        "circle.color('red')\n",
        "circle.speed('fastest')\n",
        "circle.up()\n",
        "\n",
        "square = turtle.Turtle()\n",
        "square.shape('square')\n",
        "square.color('green')\n",
        "square.speed('fastest')\n",
        "square.up()\n",
        "\n",
        "circle.goto(0, 280)\n",
        "circle.stamp()\n",
        "\n",
        "k = 0\n",
        "for i in range(1, 17):\n",
        "    y = 30*i\n",
        "    for j in range(i-k):\n",
        "        x = 30*j\n",
        "        square.goto(x, -y+280)\n",
        "        square.stamp()\n",
        "        square.goto(-x, -y+280)\n",
        "        square.stamp()\n",
        "\n",
        "    if i % 4 == 0:\n",
        "        x = 30*(j+1)\n",
        "        circle.color('red')\n",
        "        circle.goto(-x, -y+280)\n",
        "        circle.stamp()\n",
        "        circle.goto(x, -y+280)\n",
        "        circle.stamp()\n",
        "        k += 2\n",
        "\n",
        "    if i % 4 == 3:\n",
        "        x = 30*(j+1)\n",
        "        circle.color('yellow')\n",
        "        circle.goto(-x, -y+280)\n",
        "        circle.stamp()\n",
        "        circle.goto(x, -y+280)\n",
        "        circle.stamp()\n",
        "\n",
        "square.color('brown')\n",
        "for i in range(17, 20):\n",
        "    y = 30*i\n",
        "    for j in range(3):\n",
        "        x = 30*j\n",
        "        square.goto(x, -y+280)\n",
        "        square.stamp()\n",
        "        square.goto(-x, -y+280)\n",
        "        square.stamp()\n",
        "\n",
        "turtle.exitonclick()\n"
      ],
      "execution_count": null,
      "outputs": []
    },
    {
      "cell_type": "code",
      "metadata": {
        "id": "Cml9arH2FBw2"
      },
      "source": [
        "import turtle\n",
        "\n",
        "\n",
        "t = turtle.Turtle()\n",
        "\n",
        "\n",
        "screen = turtle.Screen()\n",
        "\n",
        "screen.bgcolor(\"sky blue\")\n",
        "\n",
        "turtle.hideturtle()\n",
        "\n",
        "\n",
        "def draw_circle(color, radius, x, y):\n",
        "    t.penup()\n",
        "    t.fillcolor(color)\n",
        "    t.goto(x, y)\n",
        "    t.pendown()\n",
        "    t.begin_fill()\n",
        "    t.circle(radius)\n",
        "    t.end_fill()\n",
        "\n",
        "\n",
        "draw_circle(\"#ffffff\", 30, 0, -40)\n",
        "draw_circle(\"#ffffff\", 40, 0, -100)\n",
        "draw_circle(\"#ffffff\", 60, 0, -200)\n",
        "\n",
        "\n",
        "draw_circle(\"#ffffff\", 2, -10, -10)\n",
        "\n",
        "\n",
        "draw_circle(\"#ffffff\", 2, 10, -10)\n",
        "\n",
        "draw_circle(\"#FF6600\", 3, 0, -15)\n",
        "\n",
        "\n",
        "draw_circle(\"#ffffff\", 2, 0, -35)\n",
        "draw_circle(\"#ffffff\", 2, 0, -45)\n",
        "draw_circle(\"#ffffff\", 2, 0, -55)\n",
        "\n",
        "\n",
        "def create_line(x, y, length, angle):\n",
        "    t.penup()\n",
        "    t.goto(x, y)\n",
        "    t.setheading(angle)\n",
        "    t.pendown()\n",
        "    t.forward(length)\n",
        "    t.setheading(angle + 20)\n",
        "    t.forward(20)\n",
        "    t.penup()\n",
        "    t.back(20)\n",
        "    t.pendown()\n",
        "    t.setheading(angle - 20)\n",
        "    t.forward(20)\n",
        "    t.penup()\n",
        "    t.home()\n",
        "\n",
        "\n",
        "create_line(-70, -50, 50, 160)\n",
        "\n",
        "\n",
        "create_line(70, -50, 50, 20)\n",
        "\n",
        "\n",
        "t.penup()\n",
        "t.goto(-35, 8)\n",
        "t.color(\"black\")\n",
        "t.pensize(6)\n",
        "t.pendown()\n",
        "t.goto(35, 8)\n",
        "\n",
        "t.goto(30, 8)\n",
        "t.fillcolor(\"black\")\n",
        "t.begin_fill()\n",
        "t.left(90)\n",
        "t.forward(15)\n",
        "t.left(90)\n",
        "t.forward(60)\n",
        "t.left(90)\n",
        "t.forward(15)\n",
        "t.end_fill()\n",
        "\n",
        "turtle.exitonclick()"
      ],
      "execution_count": null,
      "outputs": []
    },
    {
      "cell_type": "code",
      "metadata": {
        "colab": {
          "base_uri": "https://localhost:8080/"
        },
        "id": "E6cQv6w73Nwx",
        "outputId": "77596b1b-cf01-4110-fedf-1930e79f92ab"
      },
      "source": [
        "a,*b,c = 1,2,3,4\n",
        "print(b)"
      ],
      "execution_count": null,
      "outputs": [
        {
          "output_type": "stream",
          "text": [
            "[2, 3]\n"
          ],
          "name": "stdout"
        }
      ]
    },
    {
      "cell_type": "code",
      "metadata": {
        "colab": {
          "base_uri": "https://localhost:8080/"
        },
        "id": "dpvaYVgs4_zS",
        "outputId": "8733ee3e-aac2-4873-9328-53288636bfa7"
      },
      "source": [
        "4**2-(-3**2)"
      ],
      "execution_count": null,
      "outputs": [
        {
          "output_type": "execute_result",
          "data": {
            "text/plain": [
              "25"
            ]
          },
          "metadata": {
            "tags": []
          },
          "execution_count": 10
        }
      ]
    },
    {
      "cell_type": "code",
      "metadata": {
        "colab": {
          "base_uri": "https://localhost:8080/"
        },
        "id": "HHLhMeWu9ysX",
        "outputId": "4533f90d-4265-4349-db16-104f882ecc9a"
      },
      "source": [
        "def imp(a,b):\n",
        "  return a*b\n",
        "print(imp(7,'1'))"
      ],
      "execution_count": null,
      "outputs": [
        {
          "output_type": "stream",
          "text": [
            "1111111\n"
          ],
          "name": "stdout"
        }
      ]
    },
    {
      "cell_type": "code",
      "metadata": {
        "colab": {
          "base_uri": "https://localhost:8080/"
        },
        "id": "vImIJDV4-DAL",
        "outputId": "fac4db8f-4f76-4cb4-98a1-3a2d65bcc907"
      },
      "source": [
        "name = ['function', 'class','metod', 'return']\n",
        "print(name[-1][-1])"
      ],
      "execution_count": null,
      "outputs": [
        {
          "output_type": "stream",
          "text": [
            "n\n"
          ],
          "name": "stdout"
        }
      ]
    },
    {
      "cell_type": "code",
      "metadata": {
        "colab": {
          "base_uri": "https://localhost:8080/"
        },
        "id": "LPty47aL-db3",
        "outputId": "e9ebc75c-bf3d-4e22-e7c1-b8a3d5f45ea4"
      },
      "source": [
        "a = [1,2,3,4]\n",
        "b = [sum(a[0:x+1]) for x in range(0, len(a))]\n",
        "print(a)"
      ],
      "execution_count": null,
      "outputs": [
        {
          "output_type": "stream",
          "text": [
            "[1, 2, 3, 4]\n"
          ],
          "name": "stdout"
        }
      ]
    },
    {
      "cell_type": "code",
      "metadata": {
        "id": "2GOxvlV6QdGU"
      },
      "source": [
        "import random\n",
        "\n",
        "def run():\n",
        "  contrasena = generar_contrasena()\n",
        "  print('Tu nueva contraseña es: '+ contrasena)\n",
        "\n",
        "if __name__ = '__main__':\n",
        "  run()\n"
      ],
      "execution_count": null,
      "outputs": []
    },
    {
      "cell_type": "code",
      "metadata": {
        "colab": {
          "base_uri": "https://localhost:8080/"
        },
        "id": "na4Pe_CPRQI5",
        "outputId": "2165b9c4-30a4-4445-91f2-a0dfb0977deb"
      },
      "source": [
        "import random\n",
        "\n",
        "def generar_contrasena():\n",
        "  mayusculas = ['A', 'B', 'C', 'D', 'E', 'F', 'G', 'H', 'I', 'J', 'K']\n",
        "  minusculas = ['a', 'b', 'c', 'd', 'e', 'f', 'g']\n",
        "  simbolos = ['!', '#', '$', '&', '/', '(', ')']\n",
        "  numeros = ['1', '2', '3', '4', '5', '6', '7', '8', '9', '0']\n",
        "\n",
        "  caracteres = mayusculas + minusculas + simbolos + numeros\n",
        "\n",
        "  contrasena = []\n",
        "\n",
        "  for i in range(15):\n",
        "    caracter_random = random.choice(caracteres)\n",
        "    contrasena.append(caracter_random)\n",
        "\n",
        "  contrasena = \"\".join(contrasena)\n",
        "  return contrasena\n",
        "\n",
        "def run():\n",
        "  contrasena = generar_contrasena()\n",
        "  print('Tu nueva contraseña es: ' + contrasena)\n",
        "\n",
        "\n",
        "if __name__ == '__main__':\n",
        "  run()"
      ],
      "execution_count": null,
      "outputs": [
        {
          "output_type": "stream",
          "text": [
            "Tu nueva contraseña es: #7F93eGa#/5K(IK\n"
          ],
          "name": "stdout"
        }
      ]
    },
    {
      "cell_type": "code",
      "metadata": {
        "id": "ovNozXNDYYV0"
      },
      "source": [
        "import random\n",
        "\n",
        "\n",
        "def generador_id():\n",
        "    #Generamos datos de entrada para el id aleatorio\n",
        "    cedula = int(input(\"Dijita la cedula: \"))\n",
        "    apellido = input(\"Dijita la Apellido: \")\n",
        "    nombre = input(\"Dijita el nombre: \")\n",
        "    nacionalidad = input(\"Dijita tu nacionalidad: \")\n",
        "    fecha_entrada = int(input(\"Dijista tu fecha entrada MM/DD/AA :\"))\n",
        "    numero_aleatorio = random.randint(1000,9999)\n",
        "\n",
        "    # Convertimos las variables enteras a string\n",
        "    cedula = str(cedula)\n",
        "    fecha_entrada = str(fecha_entrada)\n",
        "    numero_aleatorio = str(numero_aleatorio)\n",
        "\n",
        "    #Reducimos los string a sus primero 4 caracteres\n",
        "    nombre = nombre[:3]\n",
        "    apellido = apellido[:3]\n",
        "    nacionalidad = nacionalidad[:3]\n",
        "    cedula = cedula[:3]    \n",
        "    fecha_entrada = fecha_entrada[:3]\n",
        "    \n",
        "\n",
        "    #Convierto esos 4 caracteres en una lista\n",
        "    lista_cedula = list(cedula)\n",
        "    lista_nombre = list(nombre)\n",
        "    lista_apellido = list(apellido)\n",
        "    lista_nacionalidad = list(nacionalidad)\n",
        "    lista_fecha_entrada = list(fecha_entrada)\n",
        "    lista_numero_aleatorio = list(numero_aleatorio)\n",
        "\n",
        "    #concatenacion de las listas\n",
        "    combinacion = lista_nombre + lista_apellido + lista_nacionalidad + lista_cedula + lista_fecha_entrada + lista_numero_aleatorio\n",
        "    # lista mutable que contendra nuestro id unico (coparen con un contador si quieren entender)\n",
        "    id_unico = []\n",
        "\n",
        "    # ciclo que se itera 15 veces escogiendo 1 caracter a la ves y agregandolo a id_unico\n",
        "    for i in range(15):\n",
        "        id_random = random.choice(combinacion)\n",
        "        id_unico.append(id_random)\n",
        "    #convertimos la lista en un string\n",
        "    id_unico = \"\".join(id_unico)\n",
        "    #regresamos el valor string a la funcion generador_id()\n",
        "    return id_unico\n",
        "\n",
        "\n",
        "def run():    \n",
        "    id_unico = generador_id()\n",
        "    print (\"Tu id unico es: \"+ id_unico+\"\")\n",
        "\n",
        "\n",
        "if __name__ == \"__main__\":\n",
        "    run()\n",
        "\n"
      ],
      "execution_count": null,
      "outputs": []
    },
    {
      "cell_type": "code",
      "metadata": {
        "colab": {
          "base_uri": "https://localhost:8080/"
        },
        "id": "-IxU3CybZF6N",
        "outputId": "80981406-4013-49e5-d410-e5761f6e8c3d"
      },
      "source": [
        "import random\n",
        "\n",
        "chars = []\n",
        "\n",
        "def init_char_list():\n",
        "\tglobal chars\n",
        "\tuppercase = []\n",
        "\tlowercase = []\n",
        "\tsymbols = []\n",
        "\tnumbers = []\n",
        "\n",
        "\tfor i in range(27):\n",
        "\t\tuppercase.append(chr(97 + i))\n",
        "\t\tlowercase.append(chr(65 + i))\n",
        "\n",
        "\tfor i in range(11):\n",
        "\t\tnumbers.append(chr(48 + i))\n",
        "\n",
        "\tfor i in range(7):\n",
        "\t\tsymbols.append(chr(33 + i))\n",
        "\n",
        "\tchars = uppercase + lowercase + numbers + symbols\n",
        "\n",
        "\n",
        "def generate_passwd(length):\n",
        "\tpasswd = []\n",
        "\tfor i in range(length):\n",
        "\t\tchar = random.choice(chars)\n",
        "\t\tpasswd.append(char)\n",
        "\n",
        "\treturn ''.join(passwd)\n",
        "\n",
        "\n",
        "def run():\n",
        "\tinit_char_list()\n",
        "\tpasswd_length = 45\n",
        "\tpasswd = generate_passwd(passwd_length)\n",
        "\tprint(passwd)\n",
        "\n",
        "\n",
        "if __name__ == '__main__':\n",
        "\trun()"
      ],
      "execution_count": null,
      "outputs": [
        {
          "output_type": "stream",
          "text": [
            "9$LiHSuI'AX5\"{eVE$MZ#pm&uIBVbftIDsPbej8eEWwC{\n"
          ],
          "name": "stdout"
        }
      ]
    },
    {
      "cell_type": "code",
      "metadata": {
        "colab": {
          "base_uri": "https://localhost:8080/"
        },
        "id": "_cRHniFiZXdY",
        "outputId": "67d19c71-9a48-4e72-a82a-d7e129b0d395"
      },
      "source": [
        "import random\n",
        "\n",
        "\n",
        "def create_password():\n",
        "    new_password = \"\"\n",
        "    letters = 'BCDEFGHIJKLMNOPQRSTUVWXYZabcdefghijklmnopqrstuvwxyz!@#$/()-1234567890'\n",
        "\n",
        "    for i in range(16):\n",
        "        new_password += random.choice(letters)\n",
        "\n",
        "    return new_password\n",
        "\n",
        "\n",
        "def run():\n",
        "    password = create_password()\n",
        "    print(\" You new password is: \" + password)\n",
        "\n",
        "\n",
        "if __name__ == \"__main__\":\n",
        "    run()"
      ],
      "execution_count": null,
      "outputs": [
        {
          "output_type": "stream",
          "text": [
            " You new password is: kmbfMhnz6YKBL0wI\n"
          ],
          "name": "stdout"
        }
      ]
    },
    {
      "cell_type": "code",
      "metadata": {
        "id": "KC4CXfRTZhyi"
      },
      "source": [
        "import random\n",
        "import string\n",
        "\n",
        "\n",
        "def create_password(number):\n",
        "    new_password = \"\"\n",
        "    letters = string.ascii_uppercase + string.ascii_lowercase + \\\n",
        "        string.digits + string.punctuation\n",
        "\n",
        "    for i in range(number):\n",
        "        new_password += random.choice(letters)\n",
        "\n",
        "    return new_password\n",
        "\n",
        "\n",
        "def run():\n",
        "    number = int(input(\"Maximum characters : \"))\n",
        "    password = create_password(number)\n",
        "    print(\" You new password is: \" + password)\n",
        "\n",
        "\n",
        "if __name__ == \"__main__\":\n",
        "    run()"
      ],
      "execution_count": null,
      "outputs": []
    },
    {
      "cell_type": "code",
      "metadata": {
        "id": "0DP4u4GpZ4T4",
        "outputId": "47ea5cc1-880b-4ee9-8d33-6c1e03914217",
        "colab": {
          "base_uri": "https://localhost:8080/"
        }
      },
      "source": [
        "import random \n",
        "import string\n",
        "\n",
        "\n",
        "def generar_contrasena(): \n",
        "    letas = list (string.ascii_letters)\n",
        "    numeros = list (string.digits)\n",
        "    simbolos = list (string.punctuation)\n",
        "\n",
        "    caracteres = letas + numeros + simbolos \n",
        "    contrasena = []\n",
        "\n",
        "    for i in range(15):\n",
        "        caracter_random = random.choice(caracteres)\n",
        "        contrasena.append(caracter_random)\n",
        "\n",
        "    contrasena = ''.join(contrasena)\n",
        "    return contrasena \n",
        "\n",
        "\n",
        "def run (): \n",
        "    contrasena = generar_contrasena()\n",
        "    print('Tu nueva contraseña es: ' + contrasena)\n",
        "\n",
        "    \n",
        "\n",
        "\n",
        "if __name__ == '__main__': \n",
        "    run()"
      ],
      "execution_count": null,
      "outputs": [
        {
          "output_type": "stream",
          "text": [
            "Tu nueva contraseña es: uDAVGK.~fa{%Fcu\n"
          ],
          "name": "stdout"
        }
      ]
    }
  ]
}