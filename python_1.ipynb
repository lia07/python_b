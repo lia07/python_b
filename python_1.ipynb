{
  "nbformat": 4,
  "nbformat_minor": 0,
  "metadata": {
    "colab": {
      "provenance": [],
      "authorship_tag": "ABX9TyPWqvRTV3dhIR83uH1+SpWx",
      "include_colab_link": true
    },
    "kernelspec": {
      "name": "python3",
      "display_name": "Python 3"
    },
    "language_info": {
      "name": "python"
    }
  },
  "cells": [
    {
      "cell_type": "markdown",
      "metadata": {
        "id": "view-in-github",
        "colab_type": "text"
      },
      "source": [
        "<a href=\"https://colab.research.google.com/github/lia07/python_b/blob/main/python_1.ipynb\" target=\"_parent\"><img src=\"https://colab.research.google.com/assets/colab-badge.svg\" alt=\"Open In Colab\"/></a>"
      ]
    },
    {
      "cell_type": "code",
      "execution_count": null,
      "metadata": {
        "colab": {
          "base_uri": "https://localhost:8080/"
        },
        "id": "1eEtAUKzHhW6",
        "outputId": "8bead88f-def6-42ab-fe02-19fbf11cb215"
      },
      "outputs": [
        {
          "output_type": "stream",
          "name": "stdout",
          "text": [
            "Hola mundo\n",
            "Mi nombre es Gladys\n",
            "Hola mundo\n",
            "mi nombre es Gladys\n"
          ]
        }
      ],
      "source": [
        "Pprint('Hola mundo')\n",
        "print(\"Mi nombre es Gladys\")\n",
        "\n",
        "print(\"Hola mundo\\nmi nombre es Gladys\")"
      ]
    },
    {
      "cell_type": "code",
      "source": [
        "#type int\n",
        "numero = 10\n",
        "\n",
        "print(numero)\n",
        "print(type(numero))\n",
        "\n",
        "#type float\n",
        "numero = 10.55\n",
        "\n",
        "print(numero)\n",
        "print(type(numero)) \n",
        "\n",
        "\n",
        "#type cadena\n",
        "cadena = \"Estoy 'estudiando'\"\n",
        "\n",
        "print(cadena)\n",
        "print(type(cadena))"
      ],
      "metadata": {
        "colab": {
          "base_uri": "https://localhost:8080/"
        },
        "id": "-bG3OCvSMQPU",
        "outputId": "b2c0df8c-4372-4574-f204-fb6e5a10b6f7"
      },
      "execution_count": null,
      "outputs": [
        {
          "output_type": "stream",
          "name": "stdout",
          "text": [
            "10\n",
            "<class 'int'>\n",
            "10.55\n",
            "<class 'float'>\n",
            "Estoy 'estudiando'\n",
            "<class 'str'>\n"
          ]
        }
      ]
    },
    {
      "cell_type": "code",
      "source": [
        "num1 = 10\n",
        "num2 = 6.6\n",
        "resultado = (num1 + num2) * 10/6\n",
        "\n",
        "print(\"El resultado es: \", resultado)"
      ],
      "metadata": {
        "colab": {
          "base_uri": "https://localhost:8080/"
        },
        "id": "KlwkW86QMQKi",
        "outputId": "b0796a90-21a2-43f9-de73-71c3b5ecc278"
      },
      "execution_count": null,
      "outputs": [
        {
          "output_type": "stream",
          "name": "stdout",
          "text": [
            "El resultado es:  27.666666666666668\n"
          ]
        }
      ]
    },
    {
      "cell_type": "markdown",
      "source": [
        "# **Tipado dínamico**"
      ],
      "metadata": {
        "id": "rOU-TWLex4iQ"
      }
    },
    {
      "cell_type": "code",
      "source": [
        "valor = 10\n",
        "print(valor)\n",
        "valor = \"Gladys\"\n",
        "print(valor)"
      ],
      "metadata": {
        "colab": {
          "base_uri": "https://localhost:8080/"
        },
        "id": "-7-GJ8rAyBFZ",
        "outputId": "b3c67cac-7e35-4770-e75f-1e03ef402471"
      },
      "execution_count": null,
      "outputs": [
        {
          "output_type": "stream",
          "name": "stdout",
          "text": [
            "10\n",
            "Gladys\n"
          ]
        }
      ]
    },
    {
      "cell_type": "markdown",
      "source": [
        "# **Comentarios**"
      ],
      "metadata": {
        "id": "Ntb-8BSED2ge"
      }
    },
    {
      "cell_type": "code",
      "source": [
        "#Python permite el tipado dinamico\n",
        "'''\n",
        " El tipado diamico es que una misma variable puede\n",
        "  contener diferentes tipos de datos a lo largo del programa\n",
        "'''\n",
        "\n",
        "valor = 10\n",
        "print(valor)\n",
        "valor = \"Gladys\"\n",
        "print(valor)"
      ],
      "metadata": {
        "id": "obI6dDtIMQGj"
      },
      "execution_count": null,
      "outputs": []
    },
    {
      "cell_type": "markdown",
      "source": [
        "# **Operadores Aritmeticos**"
      ],
      "metadata": {
        "id": "uSI3ccC6E4XF"
      }
    },
    {
      "cell_type": "code",
      "source": [
        "#Operadores Aritmeticos\n",
        "num1 = 10\n",
        "num2  =5\n",
        "resultado = 10+5\n",
        "print(resultado)"
      ],
      "metadata": {
        "colab": {
          "base_uri": "https://localhost:8080/"
        },
        "id": "mCBkxqoAMQCu",
        "outputId": "3b1fa2ef-7fda-450b-87bd-b49cf8c3e28d"
      },
      "execution_count": null,
      "outputs": [
        {
          "output_type": "stream",
          "name": "stdout",
          "text": [
            "15\n"
          ]
        }
      ]
    },
    {
      "cell_type": "code",
      "source": [
        "#Operadores Aritmeticos\n",
        "num1 = 10\n",
        "num2  =5\n",
        "resultado = num1 + num2\n",
        "print(resultado)\n",
        "\n",
        "\n",
        "num1 = 10\n",
        "num2  =5\n",
        "resultado = num1 - num2\n",
        "print(resultado)\n",
        "\n",
        "num1 = 10\n",
        "num2  =5\n",
        "resultado = num1 * num2\n",
        "print(resultado)\n",
        "\n",
        "#division no exacta\n",
        "num1 = 10\n",
        "num2  = 3\n",
        "resultado = num1 / num2\n",
        "print(resultado)\n",
        "\n",
        "#division  exacta entera con redondeo a la baja\n",
        "num1 = 10\n",
        "num2  =3\n",
        "resultado = num1 // num2\n",
        "print(resultado)\n",
        "\n",
        "#retorna el resto/residuo 1\n",
        "num1 = 10\n",
        "num2  =3\n",
        "resultado = num1 % num2\n",
        "print(resultado)\n",
        "\n",
        "\n",
        "#exponenciacion\n",
        "num1 = 2\n",
        "num2  =5\n",
        "resultado = num1 ** num2\n",
        "print(resultado)"
      ],
      "metadata": {
        "colab": {
          "base_uri": "https://localhost:8080/"
        },
        "id": "qLoqlV4QMPqc",
        "outputId": "687c757c-798a-449d-81f1-66d491a62256"
      },
      "execution_count": null,
      "outputs": [
        {
          "output_type": "stream",
          "name": "stdout",
          "text": [
            "15\n",
            "5\n",
            "50\n",
            "3.3333333333333335\n",
            "3\n",
            "1\n",
            "32\n"
          ]
        }
      ]
    },
    {
      "cell_type": "markdown",
      "source": [
        "# **Prioridad de loa operadores aritmeticos**\n",
        "\n",
        "1. Parentesis ()\n",
        "2.  Exponenciacion **\n",
        "3.  Multiplicacion, division y Modulo *, /, %\n",
        "4. Suma y resta +, -\n"
      ],
      "metadata": {
        "id": "sxLvidpOIcoG"
      }
    },
    {
      "cell_type": "markdown",
      "source": [
        "![imagen.png](data:image/png;base64,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)"
      ],
      "metadata": {
        "id": "3hKb_Ab3MfWj"
      }
    },
    {
      "cell_type": "code",
      "source": [
        "\n",
        "resultado = 3**3 * (13/5 - (2*4))\n",
        "print(resultado)"
      ],
      "metadata": {
        "colab": {
          "base_uri": "https://localhost:8080/"
        },
        "id": "44lOucupFSh3",
        "outputId": "76a10f1c-2760-4cde-9264-ca61b15f7c4f"
      },
      "execution_count": null,
      "outputs": [
        {
          "output_type": "stream",
          "name": "stdout",
          "text": [
            "-145.8\n"
          ]
        }
      ]
    },
    {
      "cell_type": "markdown",
      "source": [
        "# **Operadores relacionales**\n",
        "\n",
        "\n",
        "*   Se utilizan para establecer una relacion entre 2 valores.\n",
        "*   Compara estos valores entre si y esta comparacion produce un resultado de certeza o falcedad(verdadero o falso)\n",
        "*  Tiene el mismo nivel de prioridad en su evaluacion\n",
        "*  Los operadores relacionales tienen menor prioridad que los aritmeticos  \n",
        "\n"
      ],
      "metadata": {
        "id": "YEtOx6jEP-Xz"
      }
    },
    {
      "cell_type": "markdown",
      "source": [
        "![imagen.png](data:image/png;base64,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)"
      ],
      "metadata": {
        "id": "a_Vk6OBDXw9z"
      }
    },
    {
      "cell_type": "code",
      "source": [
        "#Operadores relacionales\n",
        "\n",
        "resultado = 10<20\n",
        "print(resultado)\n",
        "\n",
        "resultado = 10 > 20\n",
        "print(resultado)\n",
        "\n",
        "resultado = 10 == 20\n",
        "print(resultado)\n",
        "\n",
        "resultado = 10 != 20\n",
        "print(resultado)\n",
        "\n",
        "resultado = 10<=20\n",
        "print(resultado)\n",
        "\n",
        "resultado = 10 >= 20\n",
        "print(resultado)"
      ],
      "metadata": {
        "colab": {
          "base_uri": "https://localhost:8080/"
        },
        "id": "OyCuO90JYiP_",
        "outputId": "11d04041-ef2c-4b03-f27d-f9bed850df4c"
      },
      "execution_count": null,
      "outputs": [
        {
          "output_type": "stream",
          "name": "stdout",
          "text": [
            "True\n",
            "False\n",
            "False\n",
            "True\n",
            "True\n",
            "False\n"
          ]
        }
      ]
    },
    {
      "cell_type": "code",
      "source": [
        "#operadores relacionales\n",
        "\n",
        "a = 10\n",
        "b = 20\n",
        "c = 30\n",
        "\n",
        "resultado =  a+b == c\n",
        "print(resultado)\n",
        "\n",
        "\n",
        "a = 10\n",
        "b = 20\n",
        "c = 30\n",
        "\n",
        "resultado =  a+b != c\n",
        "print(resultado)"
      ],
      "metadata": {
        "colab": {
          "base_uri": "https://localhost:8080/"
        },
        "id": "9LOqXso5YiMg",
        "outputId": "c3be9306-a151-413f-ef1a-444c5df6b501"
      },
      "execution_count": null,
      "outputs": [
        {
          "output_type": "stream",
          "name": "stdout",
          "text": [
            "True\n",
            "False\n"
          ]
        }
      ]
    },
    {
      "cell_type": "markdown",
      "source": [
        "# **Operadores logicos**\n",
        "\n",
        "*  Permite construir expresiones logicas, se obtiene como resultado *booleanos*\n",
        "\n",
        "\n",
        "![imagen.png](data:image/png;base64,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)"
      ],
      "metadata": {
        "id": "QVz1hOlCmNWv"
      }
    },
    {
      "cell_type": "markdown",
      "source": [
        "Prioridad de los operadores en general\n",
        "\n",
        "1. ()\n",
        "2. **\n",
        "3.  *, /, mod, not\n",
        "4.  +, -, and"
      ],
      "metadata": {
        "id": "8F1YiyFmrF_m"
      }
    },
    {
      "cell_type": "code",
      "source": [
        "#Prioridades en operadores logicos  NOT, AND, OR\n",
        "a  = 10\n",
        "b = 12\n",
        "c = 13\n",
        "d  = 10;\n",
        "\n",
        "((a>b) or (a<c)) and ((a ==c) or (a>=b))"
      ],
      "metadata": {
        "colab": {
          "base_uri": "https://localhost:8080/"
        },
        "id": "0q0DT-hon4MJ",
        "outputId": "f33dafb4-4de9-4045-d6d5-b1f97e241c5a"
      },
      "execution_count": null,
      "outputs": [
        {
          "output_type": "execute_result",
          "data": {
            "text/plain": [
              "False"
            ]
          },
          "metadata": {},
          "execution_count": 11
        }
      ]
    },
    {
      "cell_type": "code",
      "source": [
        "#operadores logicos\n",
        "\n",
        "a = 10\n",
        "b = 15\n",
        "c = 20\n",
        "resultado = ((a<b) and (b<c))\n",
        "print(resultado)"
      ],
      "metadata": {
        "colab": {
          "base_uri": "https://localhost:8080/"
        },
        "id": "MG5GqD2LYhy9",
        "outputId": "77983f46-6d86-4503-b3dd-540d08003082"
      },
      "execution_count": null,
      "outputs": [
        {
          "output_type": "stream",
          "name": "stdout",
          "text": [
            "True\n"
          ]
        }
      ]
    },
    {
      "cell_type": "markdown",
      "source": [
        "# **Operadores de asignacion**"
      ],
      "metadata": {
        "id": "ZkE2hoMXu8W_"
      }
    },
    {
      "cell_type": "code",
      "source": [
        "#operadores de asignacion\n",
        "\n",
        "a = 0\n",
        "a += 5 #suma en asignacion\n",
        "a -= 2 #resta en asignacion\n",
        "a *= 3 #multiplicacion en asignacion\n",
        "a **= 2 #potencia en asignacion\n",
        "a %= 2 #modulo en asignacion\n",
        "\n",
        "print(a)"
      ],
      "metadata": {
        "colab": {
          "base_uri": "https://localhost:8080/"
        },
        "id": "_6gn7A2yYhu3",
        "outputId": "b33f67c7-4fb1-4170-e852-b58417e00f33"
      },
      "execution_count": null,
      "outputs": [
        {
          "output_type": "stream",
          "name": "stdout",
          "text": [
            "1\n"
          ]
        }
      ]
    },
    {
      "cell_type": "markdown",
      "source": [
        "# **Salida de datos**"
      ],
      "metadata": {
        "id": "0PxKzSR1u1tw"
      }
    },
    {
      "cell_type": "code",
      "source": [
        "#salidas de datos por consola\n",
        "\n",
        "nombre = \"Gladys\"\n",
        "edad = 22\n",
        "\n",
        "#print(\"Hola\", nombre, \"tienes\", edad, \"años\")\n",
        "#print(\"Hola {} tienes {} años\". format(nombre, edad))\n",
        "\n",
        "print(f\"Hola {nombre} tienes {edad} años\")"
      ],
      "metadata": {
        "colab": {
          "base_uri": "https://localhost:8080/"
        },
        "id": "EyVixFFiuJeH",
        "outputId": "40a6fd63-617c-403b-b967-f5d7086af8aa"
      },
      "execution_count": null,
      "outputs": [
        {
          "output_type": "stream",
          "name": "stdout",
          "text": [
            "Hola Gladys tienes 22 años\n"
          ]
        }
      ]
    },
    {
      "cell_type": "markdown",
      "source": [
        "# **Entrada de datos**"
      ],
      "metadata": {
        "id": "pA3Vsy_-_gcz"
      }
    },
    {
      "cell_type": "code",
      "source": [
        "#entrada de datos\n",
        "#int\n",
        "numero = int(input(\"Digite un numero: \"))\n",
        "\n",
        "print(f\"el numero es {numero + 1}\")\n",
        "\n",
        "#float\n",
        "numero = float(input(\"Digite un numero: \"))\n",
        "\n",
        "print(f\"el numero es {numero + 1}\")"
      ],
      "metadata": {
        "colab": {
          "base_uri": "https://localhost:8080/"
        },
        "id": "ODGZSRlIYhr-",
        "outputId": "8f73ec1f-eb02-4f0a-aeda-938c023376da"
      },
      "execution_count": null,
      "outputs": [
        {
          "output_type": "stream",
          "name": "stdout",
          "text": [
            "Digite un numero: 12\n",
            "el numero es 13\n",
            "Digite un numero: 12.4\n",
            "el numero es 13.4\n"
          ]
        }
      ]
    },
    {
      "cell_type": "markdown",
      "source": [
        "# **Funciones integradas**"
      ],
      "metadata": {
        "id": "zVDFQ430F114"
      }
    },
    {
      "cell_type": "code",
      "source": [
        "#funciones integradas\n",
        "\n",
        "n = int"
      ],
      "metadata": {
        "id": "sTNyL3GrFSe_"
      },
      "execution_count": null,
      "outputs": []
    },
    {
      "cell_type": "code",
      "source": [],
      "metadata": {
        "id": "Mf0ljqJcFSKH"
      },
      "execution_count": null,
      "outputs": []
    },
    {
      "cell_type": "code",
      "source": [],
      "metadata": {
        "id": "v-hkqQB3FSGZ"
      },
      "execution_count": null,
      "outputs": []
    },
    {
      "cell_type": "code",
      "source": [],
      "metadata": {
        "id": "cOKdYpThFSDK"
      },
      "execution_count": null,
      "outputs": []
    },
    {
      "cell_type": "code",
      "source": [],
      "metadata": {
        "id": "Dy3D0Pz4FR-2"
      },
      "execution_count": null,
      "outputs": []
    },
    {
      "cell_type": "code",
      "source": [],
      "metadata": {
        "id": "0KHK5SbrFR6u"
      },
      "execution_count": null,
      "outputs": []
    },
    {
      "cell_type": "code",
      "source": [],
      "metadata": {
        "id": "Hx3vnXhAFR24"
      },
      "execution_count": null,
      "outputs": []
    },
    {
      "cell_type": "code",
      "source": [],
      "metadata": {
        "id": "oC1y5ojcMPmU"
      },
      "execution_count": null,
      "outputs": []
    }
  ]
}