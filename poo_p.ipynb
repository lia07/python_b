{
  "nbformat": 4,
  "nbformat_minor": 0,
  "metadata": {
    "colab": {
      "provenance": [],
      "authorship_tag": "ABX9TyMpM6orhcofWCvbbZspQ+9K",
      "include_colab_link": true
    },
    "kernelspec": {
      "name": "python3",
      "display_name": "Python 3"
    },
    "language_info": {
      "name": "python"
    }
  },
  "cells": [
    {
      "cell_type": "markdown",
      "metadata": {
        "id": "view-in-github",
        "colab_type": "text"
      },
      "source": [
        "<a href=\"https://colab.research.google.com/github/lia07/python_b/blob/main/poo_p.ipynb\" target=\"_parent\"><img src=\"https://colab.research.google.com/assets/colab-badge.svg\" alt=\"Open In Colab\"/></a>"
      ]
    },
    {
      "cell_type": "markdown",
      "source": [
        "# **Objetivos**\n",
        "\n",
        "* Entender como funciona la Progrmacion Orientada a Objetos\n",
        "* Entender como medir la eficiencia temporal y espacial de nuestros algoritmos.\n",
        "* Entender como y por qué graficar.\n",
        "* Aprender a resolver problemas de busqueda, ordenacion y optimizacion."
      ],
      "metadata": {
        "id": "HZxv_mqYUlQw"
      }
    },
    {
      "cell_type": "markdown",
      "source": [
        "# **Atributos de la instancia**\n",
        "\n",
        "Todas las clases crean objetos y todos los objetos tienen atributos. Utilizamos el método especial __init__ para definir el estado inicial de nuestra instancia. Recibe como primer parámetro obligatorio self (que es simplemente una referencia a la instancia)."
      ],
      "metadata": {
        "id": "5vgUhjiZH9M_"
      }
    },
    {
      "cell_type": "code",
      "source": [
        "class Hotel:\n",
        "    \n",
        "    def __init__(self, numero_maximo_de_huespedes, lugares_de_estacionamiento):\n",
        "        self.numero_maximo_de_huespedes = numero_maximo_de_huespedes\n",
        "        self.lugares_de_estacionamiento = lugares_de_estacionamiento\n",
        "        self.huespedes = 0\n",
        "\n",
        "\n",
        "hotel = Hotel(numero_maximo_de_huespedes=50, lugares_de_estacionamiento=20)\n",
        "print(hotel.lugares_de_estacionamiento) # 20"
      ],
      "metadata": {
        "id": "6Rdu9bchHV1b"
      },
      "execution_count": null,
      "outputs": []
    },
    {
      "cell_type": "markdown",
      "source": [
        "# **Tipos de datos abstractos**\n",
        "\n",
        "\n",
        "* En python todo es un objeto y tiene un tipo.\n",
        "\n",
        "   * Representacion de datos y formas de interactuar con ellos.\n",
        "\n",
        "* Formas de interactuar con un objeto:\n",
        "\n",
        "   * Creacion\n",
        "   * Manipulacion\n",
        "   * Destruccion\n",
        "\n",
        "                pda"
      ],
      "metadata": {
        "id": "BUZUppmuOn3h"
      }
    },
    {
      "cell_type": "markdown",
      "source": [
        "# **Ventajas**\n",
        "\n",
        "*   Decomposicion\n",
        "*   Abstraccion\n",
        "*   Encapsulacion\n",
        "\n",
        "\n",
        "\n",
        "\n"
      ],
      "metadata": {
        "id": "qDIyunLeWnyd"
      }
    },
    {
      "cell_type": "code",
      "source": [
        "#definicion de clase\n",
        "\n",
        "class <nombre_de_la_clase>(<super_clase>):\n",
        "\n",
        "  def __init__(self, <params>):\n",
        "    <expresion>\n",
        "\n",
        "  def <nombre_del_metood>(self, <params>):\n",
        "    <expresion>\n",
        "    "
      ],
      "metadata": {
        "id": "YUGMmkawV8xe"
      },
      "execution_count": null,
      "outputs": []
    },
    {
      "cell_type": "code",
      "source": [
        "#definicion de clase\n",
        "\n",
        "class <nombre_de_la_clase>(<super_clase>):\n",
        "\n",
        "  def __init__(self, <params>):\n",
        "    <expresion>\n",
        "\n",
        "  def <nombre_del_metood>(self, <params>):\n",
        "    <expresion>"
      ],
      "metadata": {
        "id": "mos4h9y4V8tu"
      },
      "execution_count": null,
      "outputs": []
    },
    {
      "cell_type": "code",
      "source": [
        "#definicion\n",
        "class Persona:\n",
        "  def __init__(self, nombre, edad):\n",
        "    self.nombre = nombre\n",
        "    self.edad = edad\n",
        "\n",
        "  def saluda(self, otra_persona):\n",
        "    return f 'hola {otra_persona.nombre, me llamo {self.nombre}}'\n",
        "\n",
        "#uso\n",
        "\n",
        ">>> david = Persona('David', 35)\n",
        ">>> erika = Persona('Erika', 32)\n",
        "\n",
        ">>> david.saluda(erika)\n",
        "'Hola Erika, me llamo David'\n"
      ],
      "metadata": {
        "id": "sq8BlJvmV8pe"
      },
      "execution_count": null,
      "outputs": []
    },
    {
      "cell_type": "markdown",
      "source": [
        "# **Instancias**\n",
        "\n",
        "* Mientras que la clase es un molde, a los objetos creados se les conoce como instancias.\n",
        "* Cuando se crea una instancia, se ejecuta el metodo *__init__*\n",
        "* Todos los metodos de una clase reciben implicitamente como primer parametro *self*\n",
        "\n",
        "        pda"
      ],
      "metadata": {
        "id": "Cr-BOibkXSCD"
      }
    },
    {
      "cell_type": "markdown",
      "source": [
        "# **Instancias**\n",
        "\n",
        "* Los atributos de clase nos permiten:\n",
        "    * Representar datos\n",
        "    * Procedimientos para interactuar con los mismos (metodos)\n",
        "    * Mecanismos para esconder la representacion interna.\n",
        "\n",
        "* Se accede a los atributos con la notacion de punto.\n",
        "* Puede tener atributos privados. Por convencion comienzan con _\n",
        "\n",
        "      pda"
      ],
      "metadata": {
        "id": "A4ZfCQ5NX-s7"
      }
    },
    {
      "cell_type": "code",
      "source": [
        "#Instancias\n",
        "class Coordenada:\n",
        "  def __init__(self, x, y):\n",
        "    self.x = x\n",
        "    self.y = y\n",
        "\n",
        "  def distancia(self, otra_coordenada):\n",
        "    x_diff = (self.x - otra_coordenada.x)**2\n",
        "    y_diff = (self.y- otra_coordenada.y)**2\n",
        "\n",
        "    return(x_diff + y_diff)**0.5\n",
        "\n",
        "\n",
        "if __name__ == '__main__':\n",
        "  coord_1 = Coordenada(3, 30)\n",
        "  coord_2 = Coordenada(4, 8)\n",
        "\n",
        "  #print(coord_1.distancia(coord_2))\n",
        "  print(isinstance(coord_2, Coordenada))\n"
      ],
      "metadata": {
        "colab": {
          "base_uri": "https://localhost:8080/"
        },
        "id": "OnGVZda14UHV",
        "outputId": "2b0e0794-be8b-4028-c519-dbb3ef7c12fb"
      },
      "execution_count": null,
      "outputs": [
        {
          "output_type": "stream",
          "name": "stdout",
          "text": [
            "True\n"
          ]
        }
      ]
    },
    {
      "cell_type": "markdown",
      "source": [
        "# **Decomposicion**\n",
        "\n",
        "* Partir un problema en problemas mas pequeños\n",
        "* Las clases permiten crear mayores abstracciones en forma de componentes.\n",
        "* Cada clase se encarga de una parte del problema y el programa se vuelve mas facil de mantener.\n",
        "                     pda"
      ],
      "metadata": {
        "id": "DuPgDShBWGON"
      }
    },
    {
      "cell_type": "code",
      "source": [
        "#descomposicion\n",
        "\n",
        "class Automovil:\n",
        "\n",
        "  def __init__(self, modelo, marca, color):\n",
        "    self.modelo = modelo\n",
        "    self.marca = marca\n",
        "    self.color = color \n",
        "    self._estado = 'en_reposo'\n",
        "    self._motor = Motor(cilindros = 4)\n",
        "\n",
        "\n",
        "class Motor:\n",
        "\n",
        "  def __init__(self, cilindros, tipo='gasolina'):\n",
        "    self.cilindros = cilindros\n",
        "    self.tipo = tipo\n",
        "    self._temperatura = 0\n",
        "\n",
        "  def inyecta_gasolina(self, cantidad):\n",
        "    pass"
      ],
      "metadata": {
        "id": "3udW6Sx63LKc"
      },
      "execution_count": null,
      "outputs": []
    },
    {
      "cell_type": "markdown",
      "source": [
        "# **Abstraccion**\n",
        "\n",
        "* Enfocarnos en la informaion relevante.\n",
        "* Separar la informacion central de los detalle secundarios.\n",
        "* Podemos utilizar variables y metodos(privados o publicos)\n",
        "\n",
        "            pda"
      ],
      "metadata": {
        "id": "QGs8qhcLQlWr"
      }
    },
    {
      "cell_type": "code",
      "source": [
        "#abstraccion\n",
        "#def _lavar(self): metodo privado (-)\n",
        "#def lavar(self): metodo publico \n",
        "\n",
        "class Lavadora:\n",
        "\n",
        "  def __init__(self):\n",
        "    pass\n",
        "\n",
        "  def lavar(self, temperatura = 'caliente'):\n",
        "    self._llenar_tanque_de_agua(temperatura)\n",
        "    self._anadir_jabon()\n",
        "    self._lavar()\n",
        "    self._centrifugar()\n",
        "    \n",
        "  def _llenar_tanque_de_agua(self, temperatura):\n",
        "    print(f'Llenando el tanque con agua {temperatura}')\n",
        "\n",
        "  def _anadir_jabon(self):\n",
        "    print('Anadiendo jabon')\n",
        "\n",
        "  def _lavar(self):\n",
        "    print('Lavando ropa')\n",
        "\n",
        "  def _lavar(self):\n",
        "    print('Centrifugando la ropa')\n",
        "\n",
        "if __name__  == '__main__':\n",
        "  lavadora = Lavadora()\n",
        "  lavadora.lavar()\n",
        "      \n",
        "  "
      ],
      "metadata": {
        "id": "lJgHd-6n3vfp"
      },
      "execution_count": null,
      "outputs": []
    },
    {
      "cell_type": "code",
      "source": [
        "class Biblioteca:\n",
        "    def __init__(self, nombre):\n",
        "        self.nombre = nombre\n",
        "        self._libros = []\n",
        "\n",
        "    def consultar_nombre_biblioteca(self):\n",
        "        return self.nombre\n",
        "\n",
        "    def agregar_libro(self, libro):\n",
        "        self._libros.append({\n",
        "            libro.titulo,\n",
        "            libro.autor,\n",
        "            libro.cantidad_de_paginas,\n",
        "            libro.genero,\n",
        "            libro.sinopsis\n",
        "        })\n",
        "\n",
        "    def consultar_libros(self):\n",
        "        return self._libros\n",
        "\n",
        "    def consultar_libro(self, id):\n",
        "        return self._libros[id]\n",
        "\n",
        "    def quitar_libro(self, id):\n",
        "        self._libros.pop(id)"
      ],
      "metadata": {
        "id": "YsnWvkI9e1uI"
      },
      "execution_count": null,
      "outputs": []
    },
    {
      "cell_type": "markdown",
      "source": [
        "# **Funciones como objetos de primera-clase**\n",
        "\n",
        "Otro concepto importante a tener en cuenta es que en Python las funciones son objetos de primera-clase, es decir, que pueden ser pasados y utilizados como argumentos al igual que cualquier otro objeto (strings, enteros, flotantes, listas, etc.).\n",
        "\n",
        "Veamos un ejemplo donde definimos 3 diferentes funciones que utilizaremos de manera conjunta:"
      ],
      "metadata": {
        "id": "6vhopOaxsXp2"
      }
    },
    {
      "cell_type": "code",
      "source": [
        "def presentarse(nombre):\n",
        "\treturn f\"Me llamo {nombre}\"\n",
        "\n",
        "def estudiemos_juntos(nombre):\n",
        "\treturn f\"¡Hey {nombre}, aprendamos Python!\"\n",
        "\n",
        "def consume_funciones(funcion_entrante):\n",
        "\treturn funcion_entrante(\"David\")"
      ],
      "metadata": {
        "id": "0P4BcLope1W1"
      },
      "execution_count": null,
      "outputs": []
    },
    {
      "cell_type": "markdown",
      "source": [
        "# **Funciones anidadas**\n",
        "\n",
        "Al igual que los condicionales y bucles también puedes colocar funciones dentro de otra función.\n",
        "\n",
        "Tómate un minuto para analizar el siguiente código e inferir cuál será el resultado de salida:"
      ],
      "metadata": {
        "id": "pHUky45psmO6"
      }
    },
    {
      "cell_type": "code",
      "source": [
        "def funcion_mayor():\n",
        "\tprint(\"Esta es una función mayor y su mensaje de salida.\")\n",
        "\n",
        "\tdef librerias():\n",
        "\t\tprint(\"Algunas librerías de Python son: Scikit-learn, NumPy y TensorFlow.\")\n",
        "\n",
        "\tdef frameworks():\n",
        "\t\tprint(\"Algunos frameworks de Python son: Django, Dash y Flask.\")\n",
        "\n",
        "\tframeworks()\n",
        "\tlibrerias()"
      ],
      "metadata": {
        "id": "3x57tAEjV8lr"
      },
      "execution_count": null,
      "outputs": []
    },
    {
      "cell_type": "markdown",
      "source": [
        "# **Setters, getters y decorador property**\n",
        "\n",
        "\n",
        "En este punto estamos comenzando a utilizar conceptos en Python que comienzan a ser más avanzados, por lo que es normal que puedan parecerte complejos o difíciles de asimilar, así que te animo a que los repases un par de veces.\n",
        "\n",
        "Puedes tener la tranquilidad de que si bien, al inicio, no los implementas en su totalidad, podrás seguir avanzando en el curso y poco a poco incorporarlos a tus proyectos donde lo más importante es que sepas que cuentas con estas herramientas.\n",
        "\n",
        "Entendiendo el concepto de decorador\n",
        "Antes de comenzar me gustaría que analices el siguiente código:"
      ],
      "metadata": {
        "id": "Hgb2T9mKs07J"
      }
    },
    {
      "cell_type": "code",
      "source": [
        "def funcion_decoradora(funcion):\n",
        "\tdef wrapper():\n",
        "\t\tprint(\"Este es el último mensaje...\")\n",
        "\t\tfuncion()\n",
        "\t\tprint(\"Este es el primer mensaje ;)\")\n",
        "\treturn wrapper\n",
        "\n",
        "def zumbido():\n",
        "\tprint(\"Buzzzzzz\")\n",
        "\n",
        "zumbido = funcion_decoradora(zumbido)"
      ],
      "metadata": {
        "id": "B11xKa8XV8hT"
      },
      "execution_count": null,
      "outputs": []
    },
    {
      "cell_type": "code",
      "source": [
        "class Millas:\n",
        "\tdef __init__(self, distancia = 0):\n",
        "\t\tself.distancia = distancia\n",
        "\n",
        "\tdef convertir_a_kilometros(self):\n",
        "\t\treturn (self.distancia * 1.609344)"
      ],
      "metadata": {
        "id": "ZpZ9vmC9uoKw"
      },
      "execution_count": null,
      "outputs": []
    },
    {
      "cell_type": "code",
      "source": [
        "class Millas:\n",
        "\tdef __init__(self, distancia = 0):\n",
        "\t\tself.distancia = distancia\n",
        "\n",
        "\tdef convertir_a_kilometros(self):\n",
        "\t\treturn (self.distancia * 1.609344)\n",
        "\n",
        "\t# Método getter\n",
        "\tdef obtener_distancia(self):\n",
        "\t\treturn self._distancia\n",
        "\n",
        "\t# Método setter\n",
        "\tdef definir_distancia(self, valor):\n",
        "\t\tif valor < 0:\n",
        "\t\t\traise ValueError(\"No es posible convertir distancias menores a 0.\")\n",
        "\t\tself._distancia = valor\n"
      ],
      "metadata": {
        "id": "ccXIHzc7uuR2"
      },
      "execution_count": null,
      "outputs": []
    },
    {
      "cell_type": "code",
      "source": [
        "#Veamos un ejemplo del mismo caso implementando la función property():\n",
        "\n",
        "class Millas:\n",
        "\tdef __init__(self):\n",
        "\t\tself._distancia = 0\n",
        "\n",
        "\t# Función para obtener el valor de _distancia\n",
        "\tdef obtener_distancia(self):\n",
        "\t\tprint(\"Llamada al método getter\")\n",
        "\t\treturn self._distancia\n",
        "\n",
        "\t# Función para definir el valor de _distancia\n",
        "\tdef definir_distancia(self, recorrido):\n",
        "\t\tprint(\"Llamada al método setter\")\n",
        "\t\tself._distancia = recorrido\n",
        "\n",
        "\t# Función para eliminar el atributo _distancia\n",
        "\tdef eliminar_distancia(self):\n",
        "\t\tdel self._distancia\n",
        "\n",
        "\tdistancia = property(obtener_distancia, definir_distancia, eliminar_distancia)\n",
        "\n",
        "# Creamos un nuevo objeto\n",
        "avion = Millas()\n",
        "\n",
        "# Indicamos la distancia\n",
        "avion.distancia = 200\n",
        "\n",
        "# Obtenemos su atributo distancia\n",
        ">>> print(avion.distancia)\n",
        "Llamada al método getter\n",
        "Llamada al método setter\n",
        "200"
      ],
      "metadata": {
        "colab": {
          "base_uri": "https://localhost:8080/",
          "height": 133
        },
        "id": "Iax4cKNbu16f",
        "outputId": "be396b58-7463-46a3-ca7a-4084b9f1929b"
      },
      "execution_count": null,
      "outputs": [
        {
          "output_type": "error",
          "ename": "SyntaxError",
          "evalue": "ignored",
          "traceback": [
            "\u001b[0;36m  File \u001b[0;32m\"<ipython-input-1-6033c909d31b>\"\u001b[0;36m, line \u001b[0;32m1\u001b[0m\n\u001b[0;31m    Veamos un ejemplo del mismo caso implementando la función property():\u001b[0m\n\u001b[0m            ^\u001b[0m\n\u001b[0;31mSyntaxError\u001b[0m\u001b[0;31m:\u001b[0m invalid syntax\n"
          ]
        }
      ]
    },
    {
      "cell_type": "code",
      "source": [
        "class Millas:\n",
        "\tdef __init__(self):\n",
        "\t\tself._distancia = 0\n",
        "\n",
        "\t# Función para obtener el valor de _distancia\n",
        "\t# Usando el decorador property\n",
        "\t@property\n",
        "\tdef obtener_distancia(self):\n",
        "\t\tprint(\"Llamada al método getter\")\n",
        "\t\treturn self._distancia\n",
        "\n",
        "\t# Función para definir el valor de _distancia\n",
        "\t@obtener_distancia.setter\n",
        "\tdef definir_distancia(self, valor):\n",
        "\t\tif valor < 0:\n",
        "\t\t\traise ValueError(\"No es posible convertir distancias menores a 0.\")\n",
        "\t\tprint(\"Llamada al método setter\")\n",
        "\t\tself._distancia = valor\n",
        "\n",
        "# Creamos un nuevo objeto\n",
        "avion = Millas()\n",
        "\n",
        "# Indicamos la distancia\n",
        "avion.distancia = 200\n",
        "\n",
        "# Obtenemos su atributo distancia\n",
        "    #print(avion.definir..distancia)\n",
        "#Llamada al método getter\n",
        "#Llamada al método setter\n",
        "#200"
      ],
      "metadata": {
        "id": "syeoIm6hvDhJ"
      },
      "execution_count": null,
      "outputs": []
    },
    {
      "cell_type": "markdown",
      "source": [
        "# **Utilizando getters y setters**\n",
        "\n",
        "Incluyamos un par de métodos para obtener la distancia y otro para que no acepte valores inferiores a cero, pues no tendría sentido que un vehículo recorra una distancia negativa. Estos son métodos getters y setters:"
      ],
      "metadata": {
        "id": "kwKBtT_AtLpx"
      }
    },
    {
      "cell_type": "code",
      "source": [
        "class Millas:\n",
        "\tdef __init__(self, distancia = 0):\n",
        "\t\tself.distancia = distancia\n",
        "\n",
        "\tdef convertir_a_kilometros(self):\n",
        "\t\treturn (self.distancia * 1.609344)\n",
        "\n",
        "\t# Método getter\n",
        "\tdef obtener_distancia(self):\n",
        "\t\treturn self._distancia\n",
        "\n",
        "\t# Método setter\n",
        "\tdef definir_distancia(self, valor):\n",
        "\t\tif valor < 0:\n",
        "\t\t\traise ValueError(\"No es posible convertir distancias menores a 0.\")\n",
        "\t\tself._distancia = valor\n",
        "    "
      ],
      "metadata": {
        "id": "rPij22YyHWaA"
      },
      "execution_count": null,
      "outputs": []
    },
    {
      "cell_type": "markdown",
      "source": [
        "# **Función property()**\n",
        "\n",
        "Esta función está incluida en Python, en particular crea y retorna la propiedad de un objeto. La propiedad de un objeto posee los métodos getter(), setter() y del().\n",
        "\n",
        "En tanto, la función tiene cuatro atributos: property(fget, fset, fdel, fdoc):\n",
        "\n",
        "fget: trae el valor de un atributo.\n",
        "fset: define el valor de un atributo.\n",
        "fdel: elimina el valor de un atributo.\n",
        "fdoc: crea un docstring por atributo.\n",
        "Veamos un ejemplo del mismo caso implementando la función property():"
      ],
      "metadata": {
        "id": "1T_Q1tHbtZkR"
      }
    },
    {
      "cell_type": "code",
      "source": [
        "class Millas:\n",
        "\tdef __init__(self):\n",
        "\t\tself._distancia = 0\n",
        "\n",
        "\t# Función para obtener el valor de _distancia\n",
        "\tdef obtener_distancia(self):\n",
        "\t\tprint(\"Llamada al método getter\")\n",
        "\t\treturn self._distancia\n",
        "\n",
        "\t# Función para definir el valor de _distancia\n",
        "\tdef definir_distancia(self, recorrido):\n",
        "\t\tprint(\"Llamada al método setter\")\n",
        "\t\tself._distancia = recorrido\n",
        "\n",
        "\t# Función para eliminar el atributo _distancia\n",
        "\tdef eliminar_distancia(self):\n",
        "\t\tdel self._distancia\n",
        "\n",
        "\tdistancia = property(obtener_distancia, definir_distancia, eliminar_distancia)\n",
        "\n",
        "# Creamos un nuevo objeto\n",
        "avion = Millas()\n",
        "\n",
        "# Indicamos la distancia\n",
        "avion.distancia = 200\n",
        "\n",
        "# Obtenemos su atributo distancia\n",
        ">>> print(avion.distancia)\n",
        "Llamada al método getter\n",
        "Llamada al método setter\n",
        "200"
      ],
      "metadata": {
        "id": "v5p-dQRFV67h"
      },
      "execution_count": null,
      "outputs": []
    },
    {
      "cell_type": "markdown",
      "source": [
        "# **Decorador @property**\n",
        "Este decorador es uno de varios con los que ya cuenta Python, el cual nos permite utilizar getters y setters para hacer más fácil la implementación de la programación orientada a objetos en Python cambiando los métodos o atributos de las clases de forma que no modifiquemos el código.\n",
        "\n",
        "Pero mejor veamos un ejemplo en acción:"
      ],
      "metadata": {
        "id": "7dZJyY3Ftk7I"
      }
    },
    {
      "cell_type": "code",
      "source": [
        "class Millas:\n",
        "\tdef __init__(self):\n",
        "\t\tself._distancia = 0\n",
        "\n",
        "\t# Función para obtener el valor de _distancia\n",
        "\t# Usando el decorador property\n",
        "\t@property\n",
        "\tdef obtener_distancia(self):\n",
        "\t\tprint(\"Llamada al método getter\")\n",
        "\t\treturn self._distancia\n",
        "\n",
        "\t# Función para definir el valor de _distancia\n",
        "\t@obtener_distancia.setter\n",
        "\tdef definir_distancia(self, valor):\n",
        "\t\tif valor < 0:\n",
        "\t\t\traise ValueError(\"No es posible convertir distancias menores a 0.\")\n",
        "\t\tprint(\"Llamada al método setter\")\n",
        "\t\tself._distancia = valor\n",
        "\n",
        "# Creamos un nuevo objeto\n",
        "avion = Millas()\n",
        "\n",
        "# Indicamos la distancia\n",
        "avion.distancia = 200\n",
        "\n",
        "# Obtenemos su atributo distancia\n",
        ">>> print(avion.definir..distancia)\n",
        "Llamada al método getter\n",
        "Llamada al método setter\n",
        "200"
      ],
      "metadata": {
        "id": "oVk6ndrtHWW-"
      },
      "execution_count": null,
      "outputs": []
    },
    {
      "cell_type": "markdown",
      "source": [
        "# **Encapsulacion**\n",
        "\n",
        "*   Permite agrupar datos y su comportamiento\n",
        "*   Controla el acceso a dichos datos\n",
        "*   Previene modificaciones no autorizadas\n",
        "\n",
        "\n",
        "\n"
      ],
      "metadata": {
        "id": "2ZyHPktTt6h0"
      }
    },
    {
      "cell_type": "markdown",
      "source": [
        "**Encapsulación, getters and setters**"
      ],
      "metadata": {
        "id": "C2plc-2Tx8in"
      }
    },
    {
      "cell_type": "code",
      "source": [
        "class CasillaDeVotacion:\n",
        "  def __init__(self, identificador, pais):\n",
        "    self.id = identificador\n",
        "    self._pais = pais\n",
        "    self.__region = None\n",
        "\n",
        "    @property   #Indica que es una función encapsulada y a su vez getter\n",
        "    def region(self):\n",
        "        return self.__region\n",
        "    \n",
        "    @region.setter  #Decorador de modificación setter\n",
        "    def region(self, region): #Función decorada para cambiar o agregar la región note que es la misma función region\n",
        "        if region in self._pais: #Función de verificación\n",
        "            self.__region = region   #Modificación del atributo      \n",
        "        else:\n",
        "            raise ValueError(f'La region {region} no es una opcion valida en {self._pais}') \n",
        "    \n",
        "    @region.deleter\n",
        "    def region(self):\n",
        "        print('Borrando region...')\n",
        "        del self.__region\n",
        "\n",
        "if __name__ == \"__main__\":\n",
        "    casilla = CasillaDeVotacion(123, ['Cochabamba', 'La Paz'])\n",
        "    #print(casilla.region)\n",
        "    casilla.region = 'Cochabamba'    \n",
        "    print(casilla.region)\n",
        "    del casilla.region\n",
        "    casilla.region = 'La Paz'\n",
        "    print(casilla.region)\n",
        "\n",
        "\n"
      ],
      "metadata": {
        "id": "j1uWg4fQtt59",
        "colab": {
          "base_uri": "https://localhost:8080/"
        },
        "outputId": "b6bd8bf1-0439-4524-f61d-f4f5ad7a32c8"
      },
      "execution_count": null,
      "outputs": [
        {
          "output_type": "stream",
          "name": "stdout",
          "text": [
            "Cochabamba\n",
            "La Paz\n"
          ]
        }
      ]
    },
    {
      "cell_type": "markdown",
      "source": [
        "# **HERENCIA**\n",
        "\n",
        "* Permite modelar una jerarquia de clases\n",
        "* Permite compartir comportamiento comun en la jerarquia\n",
        "* Al padre se le conoce como superclase y al hijo como subclase"
      ],
      "metadata": {
        "id": "7IrTDVXmjdSs"
      }
    },
    {
      "cell_type": "code",
      "source": [
        "class Rectangulo:\n",
        "\n",
        "    def __init__(self, base, altura):\n",
        "        self.base = base\n",
        "        self.altura = altura\n",
        "\n",
        "    def area(self):\n",
        "        return self.base * self.altura\n",
        "\n",
        "class Cuadrado(Rectangulo):\n",
        "\n",
        "    def __init__(self, lado):\n",
        "        super().__init__(lado, lado)\n",
        "\n",
        "\n",
        "if __name__ == '__main__':\n",
        "    rectangulo = Rectangulo(base=3, altura=4)\n",
        "    print(rectangulo.area())\n",
        "\n",
        "    cuadrado = Cuadrado(lado=5)\n",
        "    print(cuadrado.area())"
      ],
      "metadata": {
        "id": "DLaLo8zhttgj",
        "colab": {
          "base_uri": "https://localhost:8080/"
        },
        "outputId": "03316e2e-d126-4159-85d1-48f421e53db0"
      },
      "execution_count": null,
      "outputs": [
        {
          "output_type": "stream",
          "name": "stdout",
          "text": [
            "12\n",
            "25\n"
          ]
        }
      ]
    },
    {
      "cell_type": "code",
      "source": [
        "class Programador:\n",
        "    \n",
        "    def __init__(self, nombre, edad, numero_de_empleado, skill):\n",
        "        self.nombre = nombre\n",
        "        self.edad = edad\n",
        "        self.numero_de_empleado = numero_de_empleado \n",
        "        self.skill = skill\n",
        "\n",
        "    def programar(self):\n",
        "        print(f'Hola, estoy programando en {self.skill}')\n",
        "\n",
        "class ProgramadorJava(Programador):\n",
        "\n",
        "    def __init__(self, nombre, edad, numero_de_empleado, skill = 'Java'):\n",
        "        super().__init__(nombre, edad, numero_de_empleado, skill)\n",
        "\n",
        "class ProgramadorPython(Programador):\n",
        "    \n",
        "    def __init__(self, nombre, edad, numero_de_empleado, skill = 'Python'):\n",
        "        super().__init__(nombre, edad, numero_de_empleado, skill)\n",
        "\n",
        "class ProgramadorCpp(Programador):\n",
        "\n",
        "    def __init__(self, nombre, edad, numero_de_empleado, skill = 'C++'):\n",
        "        super().__init__(nombre, edad, numero_de_empleado, skill)\n",
        "    \n",
        "\n",
        "def main():\n",
        "    programador_java = ProgramadorJava('Alvaro', 22, 1234)\n",
        "    programador_python = ProgramadorPython('Gladys', 30, 1345)\n",
        "    programador_cpp = ProgramadorCpp('Ruddy', 27, 5637)\n",
        "\n",
        "    programador_java.programar()\n",
        "    programador_python.programar()\n",
        "    programador_cpp.programar()\n",
        "\n",
        "\n",
        "if __name__ == \"__main__\":\n",
        "    main()"
      ],
      "metadata": {
        "colab": {
          "base_uri": "https://localhost:8080/"
        },
        "id": "wJpk1uzX8fAj",
        "outputId": "c35cecf8-62d6-4411-82ad-a7df6eeaf586"
      },
      "execution_count": null,
      "outputs": [
        {
          "output_type": "stream",
          "name": "stdout",
          "text": [
            "Hola, estoy programando en Java\n",
            "Hola, estoy programando en Python\n",
            "Hola, estoy programando en C++\n"
          ]
        }
      ]
    },
    {
      "cell_type": "markdown",
      "source": [
        "# **POLOMORFISMO**\n",
        "\n",
        "* La habilidad de tener varias formas\n",
        "* En python, nos permite cambiar el comportamiento de una superclase para adaptarlo a la subclase."
      ],
      "metadata": {
        "id": "AVoIrvFdpyMh"
      }
    },
    {
      "cell_type": "code",
      "source": [
        "# ejemplo\n",
        "\n",
        "class Persona:\n",
        "\n",
        "    def __init__(self, nombre):\n",
        "        self.nombre = nombre\n",
        "\n",
        "    def avanza(self):\n",
        "        print('Ando caminando')\n",
        "\n",
        "\n",
        "class Ciclista(Persona):\n",
        "\n",
        "    def __init__(self, nombre):\n",
        "        super().__init__(nombre)\n",
        "      \n",
        "    def avanza(self): #metodo avanzar\n",
        "        print('Ando moviendome en mi bicicleta')\n",
        "\n",
        "\n",
        "def main():\n",
        "    persona = Persona('David')\n",
        "    persona.avanza()\n",
        "\n",
        "    ciclista = Ciclista('Daniel')\n",
        "    ciclista.avanza()\n",
        "\n",
        "\n",
        "if __name__ == '__main__':\n",
        "    main()"
      ],
      "metadata": {
        "id": "tZ8iSwKSttdA"
      },
      "execution_count": null,
      "outputs": []
    },
    {
      "cell_type": "markdown",
      "source": [
        "# **Introduccion a la complejidad algoritmica**\n",
        "\n",
        "* ¿Por qué comparamos la eficiencia de un algoritmo?\n",
        "* Complejidad temporal vs complejidad espacial.\n",
        "* Podemos definirla como T(n)\n",
        "* Cronometrar el tiempo en el que corren un algoritmo.\n",
        "* Contar los pasos con una medida abstracta de operacion.\n",
        "* Contar los pasos conforme nos aproximamos al infinito."
      ],
      "metadata": {
        "id": "JI3TwEzjJt1K"
      }
    },
    {
      "cell_type": "code",
      "source": [
        "#\n",
        "import time\n",
        "\n",
        "def factorial(n):\n",
        "  respuesta = 1\n",
        "\n",
        "\n",
        "  while n > 1:\n",
        "    respuesta *= n\n",
        "    n -= 1\n",
        "\n",
        "  return respuesta\n",
        "\n",
        "def factorial_r(n):\n",
        "  if n == 1:\n",
        "    return 1\n",
        "\n",
        "  return n * factorial(n - 1)\n",
        "\n",
        "if __name__ == '__main__':\n",
        "  n = 1000\n",
        "\n",
        "  comienzo = time.time()\n",
        "  #print(factorial(n))\n",
        "  factorial(n)\n",
        "  final = time.time()\n",
        "  print(final - comienzo)\n",
        "\n",
        "  comienzo  = time.time()\n",
        "  factorial_r(n)\n",
        "  final = time.time()\n",
        "  print(final - comienzo)\n"
      ],
      "metadata": {
        "id": "QbiKxZqGLRc4",
        "colab": {
          "base_uri": "https://localhost:8080/"
        },
        "outputId": "4cbdbe8b-38c5-485e-d608-69e6585dd832"
      },
      "execution_count": null,
      "outputs": [
        {
          "output_type": "stream",
          "name": "stdout",
          "text": [
            "0.0005586147308349609\n",
            "0.0005252361297607422\n"
          ]
        }
      ]
    },
    {
      "cell_type": "code",
      "source": [
        "import time\n",
        "\n",
        "def factorial(n):\n",
        "    respuesta = 1\n",
        "\n",
        "    while n > 1:\n",
        "        respuesta *= n\n",
        "        n -= 1\n",
        "\n",
        "    return respuesta\n",
        "\n",
        "\n",
        "def factorial_r(n):\n",
        "    if n == 1:\n",
        "        return 1\n",
        "    return n * factorial_r(n - 1)\n",
        "\n",
        "\n",
        "if __name__ == '__main__':\n",
        "    n = 200000\n",
        "\n",
        "    comienzo = time.time()\n",
        "    factorial(n)\n",
        "    final = time.time()\n",
        "    print(final - comienzo)\n",
        "\n",
        "    comienzo = time.time()\n",
        "    factorial_r(n)\n",
        "    final = time.time()\n",
        "    print(final - comienzo)"
      ],
      "metadata": {
        "id": "SitasSVbBRI0"
      },
      "execution_count": null,
      "outputs": []
    },
    {
      "cell_type": "markdown",
      "source": [
        "# **Conteo abstracto de operacion**"
      ],
      "metadata": {
        "id": "m0RYpdJhSnnj"
      }
    },
    {
      "cell_type": "code",
      "source": [
        "def f(x):\n",
        "    respuesta = 0\n",
        "    \n",
        "    for i in range(1000):\n",
        "        respuesta += 1\n",
        "\n",
        "    for i in range(x):\n",
        "        respuesta += 1\n",
        "\n",
        "    for i in range(x):\n",
        "        for j in range(x):\n",
        "            respuesta += 1\n",
        "            respuesta += 1\n",
        "\n",
        "    return respuesta"
      ],
      "metadata": {
        "id": "tdwi0eIbuUgM"
      },
      "execution_count": null,
      "outputs": []
    },
    {
      "cell_type": "markdown",
      "source": [
        "# **Notacion asintotica**\n",
        "\n",
        "* No importa variaciones pequeñas\n",
        "* El enfoque se centra en lo que pasa conforme el tamaño del problema se acerca al infinito\n",
        "* Mejor de los casos, promedio, peor de los casos\n",
        "* Big O\n",
        "* Nada más importa el termino de mayor tamaño."
      ],
      "metadata": {
        "id": "dYEvo5oFVfrY"
      }
    },
    {
      "cell_type": "code",
      "source": [
        "#ley de la suma\n",
        "def f(n)\n",
        "    for i in range(n):\n",
        "        print(i)\n",
        "\n",
        "    for i in range(n):\n",
        "        print(i)\n",
        "\n",
        "# O(n) + O(n) = O(n+n) = O(2n) = O(n) //Crecimiento lineal"
      ],
      "metadata": {
        "id": "gj4eq0ZSDDQf"
      },
      "execution_count": null,
      "outputs": []
    },
    {
      "cell_type": "code",
      "source": [
        "\n",
        "def f(n)\n",
        "    for i in range(n):\n",
        "        print(i)\n",
        "\n",
        "    for i in range(n * n):\n",
        "        print(i)\n",
        "\n",
        "#O(n) + O(n*n) = O(n+n) = O(n + n^2) = O(n^2) //Crecimiento exponencial"
      ],
      "metadata": {
        "id": "baA9ECUcuUc-"
      },
      "execution_count": null,
      "outputs": []
    },
    {
      "cell_type": "code",
      "source": [
        "#ley de la multiplicacion\n",
        "\n",
        "def f(n)\n",
        "    for i in range(n):\n",
        "        for j in range(n):\n",
        "            print(i,j)\n",
        "\n",
        "  #O(n) O(n) = O(nn) = O(n^2) //Crecimiento exponencial"
      ],
      "metadata": {
        "id": "BRXbS9gUD3TK"
      },
      "execution_count": null,
      "outputs": []
    },
    {
      "cell_type": "code",
      "source": [
        "#recursividad multipe \n",
        "\n",
        "def fibonacci(n):\n",
        "    if n == 0 or n ==1:\n",
        "        return 1\n",
        "\n",
        "     return fibonacci(n - 1) + fibonacci(n - 2)\n",
        "\n",
        "  #O(2**n) //tiene varias llamadas recursivas y eso hace al algoritmo con un crecimiento exponencial"
      ],
      "metadata": {
        "id": "NgRrWlnUD3PX"
      },
      "execution_count": null,
      "outputs": []
    },
    {
      "cell_type": "markdown",
      "source": [
        "# **Clase de Complejidad algoritmica**\n",
        "\n",
        "* O(1) Constante\n",
        "* O(n) Lineal\n",
        "* O(log n) Logaritmica\n",
        "* O(n log n) log lineal\n",
        "* O(n**2)  Polinomial\n",
        "* O(2**n) Exponencial"
      ],
      "metadata": {
        "id": "cFbAA-wEEwQC"
      }
    },
    {
      "cell_type": "markdown",
      "source": [
        "# **Búsqueda Lineal**\n",
        "\n",
        "* Busca en todos los elementos de manera secuencial\n",
        "* ¿Cual es el peor caso?"
      ],
      "metadata": {
        "id": "Wandt2NjF4e0"
      }
    },
    {
      "cell_type": "code",
      "source": [
        "#ejemplo\n",
        "import random\n",
        "\n",
        "def busqueda_lineal(lista, objetivo):\n",
        "    match = False\n",
        "\n",
        "    for elemento in lista: # O(n)\n",
        "        if elemento == objetivo:\n",
        "            match = True\n",
        "            break\n",
        "\n",
        "    return match\n",
        "\n",
        "\n",
        "if __name__ == '__main__':\n",
        "    tamano_de_lista = int(input('De que tamano sera la lista? '))\n",
        "    objetivo = int(input('Que numero quieres encontrar? '))\n",
        "\n",
        "    lista = [random.randint(0, 100) for i in range(tamano_de_lista)]\n",
        "\n",
        "    encontrado = busqueda_lineal(lista, objetivo)\n",
        "    print(lista)\n",
        "    print(f'El elemento {objetivo} {\"esta\" if encontrado else \"no esta\"} en la lista')"
      ],
      "metadata": {
        "colab": {
          "base_uri": "https://localhost:8080/"
        },
        "id": "aSJ8EPIYFf3F",
        "outputId": "13b129a0-119a-4237-990f-1e9b261bb41b"
      },
      "execution_count": null,
      "outputs": [
        {
          "output_type": "stream",
          "name": "stdout",
          "text": [
            "De que tamano sera la lista? 5\n",
            "Que numero quieres encontrar? 4\n",
            "[92, 50, 84, 33, 5]\n",
            "El elemento 4 no esta en la lista\n"
          ]
        }
      ]
    },
    {
      "cell_type": "code",
      "source": [
        "#ejemplo\n",
        "import random\n",
        "\n",
        "def busqueda_lineal(lista, objetivo):\n",
        "    match = False\n",
        "\n",
        "    for elemento in lista: # O(n)\n",
        "        if elemento == objetivo:\n",
        "            match = True\n",
        "            break\n",
        "\n",
        "    return match\n",
        "\n",
        "\n",
        "if __name__ == '__main__':\n",
        "    tamano_de_lista = int(input('De que tamano sera la lista? '))\n",
        "    objetivo = int(input('Que numero quieres encontrar? '))\n",
        "\n",
        "    lista = [random.randint(0, 100) for i in range(tamano_de_lista)]\n",
        "\n",
        "    encontrado = busqueda_lineal(lista, objetivo)\n",
        "    print(lista)\n",
        "    print(f'El elemento {objetivo} {\"esta\" if encontrado else \"no esta\"} en la lista')"
      ],
      "metadata": {
        "id": "EAhvbOYYInyw"
      },
      "execution_count": null,
      "outputs": []
    },
    {
      "cell_type": "markdown",
      "source": [
        "# **Busqueda binaria**\n",
        "\n",
        "* Divide y conquista\n",
        "* El problema se divide en 2 en cada iteracion\n",
        "* ¿Cual es el peor caso?"
      ],
      "metadata": {
        "id": "8L0KhgaoJgCm"
      }
    },
    {
      "cell_type": "code",
      "source": [
        "#si la lista ya esta ordenada? entonces busqueda binaria\n",
        "#si la lista no esta ordenada, entonces busqueda lineal\n",
        "\n",
        "import random\n",
        "\n",
        "def busqueda_binaria(lista, comienzo, final, objetivo):\n",
        "    print(f'buscando {objetivo} entre {lista[comienzo]} y {lista[final - 1]}')\n",
        "    if comienzo > final:\n",
        "        return False\n",
        "\n",
        "    medio = (comienzo + final) // 2\n",
        "\n",
        "    if lista[medio] == objetivo:\n",
        "        return True\n",
        "    elif lista[medio] < objetivo:\n",
        "        return busqueda_binaria(lista, medio + 1, final, objetivo)\n",
        "    else:\n",
        "        return busqueda_binaria(lista, comienzo, medio - 1, objetivo)\n",
        "\n",
        "\n",
        "if __name__ == '__main__':\n",
        "    tamano_de_lista = int(input('De que tamano es la lista? '))\n",
        "    objetivo = int(input('Que numero quieres encontrar? '))\n",
        "\n",
        "    lista = sorted([random.randint(0, 100) for i in range(tamano_de_lista)])\n",
        "\n",
        "    encontrado = busqueda_binaria(lista, 0, len(lista), objetivo)\n",
        "\n",
        "    print(lista)\n",
        "    print(f'El elemento {objetivo} {\"esta\" if encontrado else \"no esta\"} en la lista')"
      ],
      "metadata": {
        "colab": {
          "base_uri": "https://localhost:8080/"
        },
        "id": "NSeStbAtJviC",
        "outputId": "953fde38-5824-497f-a81b-2cd21b5d5b4b"
      },
      "execution_count": null,
      "outputs": [
        {
          "output_type": "stream",
          "name": "stdout",
          "text": [
            "De que tamano es la lista? 10\n",
            "Que numero quieres encontrar? 3\n",
            "buscando 3 entre 2 y 94\n",
            "buscando 3 entre 2 y 41\n",
            "buscando 3 entre 2 y 2\n",
            "buscando 3 entre 28 y 2\n",
            "buscando 3 entre 28 y 94\n",
            "[2, 28, 30, 41, 47, 66, 85, 90, 92, 94]\n",
            "El elemento 3 no esta en la lista\n"
          ]
        }
      ]
    },
    {
      "cell_type": "markdown",
      "source": [
        "# **Ordenamiento de burbuja**\n",
        "\n",
        "El ordenamiento de burbuja es un algoritmo que recorrw repetidamente una lista  que necesita ordenarse. Compare elemmentos adyacentes y los intercamia si estan ene el orden  incorrecto. Este procedimiento se repite hasta que no  se requiere mas intercambios, lo que indica que la lista se encuentra ordenada\n"
      ],
      "metadata": {
        "id": "vlo_PenCNsWD"
      }
    },
    {
      "cell_type": "code",
      "source": [
        "import random\n",
        "\n",
        "\n",
        "def ordenamiento_de_burbuja(lista):\n",
        "    n = len(lista)\n",
        "\n",
        "    for i in range(n):\n",
        "        for j in range(0, n - i - 1): # O(n) * O(n) = O(n * n) = O(n**2)\n",
        "\n",
        "            if lista[j] > lista[j + 1]:\n",
        "                lista[j], lista[j + 1] = lista[j + 1], lista[j]\n",
        "\n",
        "    return lista\n",
        "\n",
        "if __name__ == '__main__':\n",
        "    tamano_de_lista = int(input('De que tamano sera la lista? '))\n",
        "\n",
        "    lista = [random.randint(0, 100) for i in range(tamano_de_lista)]\n",
        "    print(lista)\n",
        "\n",
        "    lista_ordenada = ordenamiento_de_burbuja(lista)\n",
        "    print(lista_ordenada)"
      ],
      "metadata": {
        "colab": {
          "base_uri": "https://localhost:8080/"
        },
        "id": "3kqUeQWXJ4hO",
        "outputId": "0af5b064-5c41-486a-cc49-be41e18a90a3"
      },
      "execution_count": null,
      "outputs": [
        {
          "output_type": "stream",
          "name": "stdout",
          "text": [
            "De que tamano sera la lista? 50\n",
            "[1, 58, 68, 55, 37, 3, 2, 28, 89, 3, 28, 81, 18, 77, 8, 91, 48, 20, 40, 63, 55, 43, 3, 12, 94, 87, 78, 25, 44, 19, 14, 29, 64, 48, 78, 0, 1, 79, 17, 43, 53, 47, 98, 9, 1, 60, 27, 13, 81, 96]\n",
            "[0, 1, 1, 1, 2, 3, 3, 3, 8, 9, 12, 13, 14, 17, 18, 19, 20, 25, 27, 28, 28, 29, 37, 40, 43, 43, 44, 47, 48, 48, 53, 55, 55, 58, 60, 63, 64, 68, 77, 78, 78, 79, 81, 81, 87, 89, 91, 94, 96, 98]\n"
          ]
        }
      ]
    },
    {
      "cell_type": "markdown",
      "source": [
        "# **Ordenamiento por inserción**\n",
        "\n",
        "El ordenamiento por inserción es uno de los algoritmos más comunes que estudian\n",
        "los Científicos del Cómputo. Es intuitivo y fácil de implementar, pero es muy\n",
        "ineficiente para listas de gran tamaño.\n",
        "\n",
        "Una de las características del ordenamiento por inserción es que ordena en “su\n",
        "lugar.” Es decir, no requiere memoria adicional para realizar el ordenamiento\n",
        "ya que simplemente modifican los valores en memoria.\n",
        "\n",
        "La definición es simple:\n",
        "\n",
        "Una lista es dividida entre una sublista ordenada y otra sublista desordenada.\n",
        "Al principio, la sublista ordenada contiene un solo elemento, por lo que por\n",
        "definición se encuentra ordenada.\n",
        "\n",
        "A continuación se evalua el primer elemento dentro la sublista desordenada para\n",
        "que podamos insertarlo en el lugar correcto dentro de la lista ordenada.\n",
        "\n",
        "La inserción se realiza al mover todos los elementos mayores al elemento que\n",
        "se está evaluando un lugar a la derecha.\n",
        "\n",
        "Continua el proceso hasta que la sublista desordenada quede vacia y, por lo\n",
        "tanto, la lista se encontrará ordenada.\n",
        "\n",
        "Veamos un ejemplo:\n",
        "\n",
        "Imagina que tienes la siguiente lista de números:\n",
        "\n",
        "7, 3, 2, 9, 8\n",
        "\n",
        "Primero añadimos 7 a la sublista ordenada:\n",
        "\n",
        "7, 3, 2, 9, 8\n",
        "\n",
        "Ahora vemos el primer elemento de la sublista desordenada y lo guardamos en\n",
        "una variable para mantener el valor. A esa variable la llamaremos valor_actual.\n",
        "Verificamos que 3 es menor que 7, por lo que movemos 7 un lugar a la derecha.\n",
        "\n",
        "7, 7, 2, 9, 8 (valor_actual=3)\n",
        "\n",
        "3 es menor que 7, por lo que insertamos el valor en la primera posición.\n",
        "\n",
        "3, 7, 2, 9, 8\n",
        "\n",
        "Ahora vemos el número 2. 2 es menor que 7 por lo que lo movemos un espacio a la\n",
        "derecha y hacemos lo mismo con 3.\n",
        "\n",
        "3, 3, 7, 9, 8 (valor_actual=2)\n",
        "\n",
        "Ahora insertamos 2 en la primera posición.\n",
        "\n",
        "2, 3, 7, 9, 8\n",
        "\n",
        "9 es más grande que el valor más grande de nuestra sublista ordenada por lo que\n",
        "lo insertamos directamente en su posición.\n",
        "\n",
        "2, 3, 7, 9, 8\n",
        "\n",
        "El último valor es 8. 9 es más grande que 8 por lo que lo movemos a la derecha:\n",
        "\n",
        "2, 3, 7, 9, 9 (valor_actual=8)\n",
        "\n",
        "8 es más grande que 7, por lo que procedemos a insertar nuestro valor_actual.\n",
        "\n",
        "2, 3, 7, 8, 9\n",
        "\n",
        "Ahora la lista se encuentra ordenada y no quedan más elementos en la sublista\n",
        "desordenada.\n",
        "\n",
        "Antes de ver la implementación en Python, trata de implementarlo por ti mismo\n",
        "y compártenos tu algoritmo en la sección de comentarios.\n",
        "\n",
        "Esta es una forma de implementar el algoritmo anterior:\n"
      ],
      "metadata": {
        "id": "WPFVJ2DwPaja"
      }
    },
    {
      "cell_type": "code",
      "source": [
        "def ordenamiento_por_insercion(lista):\n",
        "\n",
        "    for indice in range(1, len(lista)):\n",
        "        valor_actual = lista[indice]\n",
        "        posicion_actual = indice\n",
        "\n",
        "        while posicion_actual > 0 and lista[posicion_actual - 1] > valor_actual:\n",
        "            lista[posicion_actual] = lista[posicion_actual - 1]\n",
        "            posicion_actual -= 1\n",
        "\n",
        "        lista[posicion_actual] = valor_actual"
      ],
      "metadata": {
        "id": "iouqPZ5XNRtm"
      },
      "execution_count": null,
      "outputs": []
    },
    {
      "cell_type": "markdown",
      "source": [
        "# **Ordenamiento por mezcla**\n",
        "\n",
        "![imagen.png](data:image/png;base64,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)"
      ],
      "metadata": {
        "id": "Y5onsYNCPwsr"
      }
    },
    {
      "cell_type": "code",
      "source": [
        "import random\n",
        "\n",
        "def ordenamiento_por_mezcla(lista):\n",
        "    if len(lista) > 1:\n",
        "        medio = len(lista) // 2\n",
        "        izquierda = lista[:medio]\n",
        "        derecha = lista[medio:]\n",
        "        print(izquierda, '*' * 5, derecha)\n",
        "\n",
        "        # llamada recursiva en cada mitad\n",
        "        ordenamiento_por_mezcla(izquierda)\n",
        "        ordenamiento_por_mezcla(derecha)\n",
        "\n",
        "        # Iteradores para recorrer las dos sublistas\n",
        "        i = 0\n",
        "        j = 0\n",
        "        # Iterador para la lista principal\n",
        "        k = 0\n",
        "\n",
        "        while i < len(izquierda) and j < len(derecha):\n",
        "            if izquierda[i] < derecha[j]:\n",
        "                lista[k] = izquierda[i]\n",
        "                i += 1\n",
        "            else:\n",
        "                lista[k] = derecha[j]\n",
        "                j += 1\n",
        "\n",
        "            k += 1\n",
        "\n",
        "        while i < len(izquierda):\n",
        "            lista[k] = izquierda[i]\n",
        "            i += 1\n",
        "            k +=1\n",
        "\n",
        "        while j < len(derecha):\n",
        "            lista[k] = derecha[j]\n",
        "            j += 1\n",
        "            k += 1\n",
        "        \n",
        "        print(f'izquierda {izquierda}, derecha {derecha}')\n",
        "        print(lista)\n",
        "        print('-' * 50)\n",
        "\n",
        "    return lista\n",
        "\n",
        "\n",
        "if __name__ == '__main__':\n",
        "    tamano_de_lista = int(input('De que tamano sera la lista? '))\n",
        "\n",
        "    lista = [random.randint(0, 100) for i in range(tamano_de_lista)]\n",
        "    print(lista)\n",
        "    print('-' * 20)\n",
        "\n",
        "    lista_ordenada = ordenamiento_por_mezcla(lista)\n",
        "    print(lista_ordenada)"
      ],
      "metadata": {
        "id": "H-tEBIV_P2yk"
      },
      "execution_count": null,
      "outputs": []
    },
    {
      "cell_type": "code",
      "source": [],
      "metadata": {
        "id": "Z7upFZtdQPY3"
      },
      "execution_count": null,
      "outputs": []
    },
    {
      "cell_type": "code",
      "source": [
        "\"\"\"\n",
        "Created on Sun May 10 19:49:22 2020\n",
        "\n",
        "@author: xavik\n",
        "\"\"\"\n",
        "\n",
        "# -*- coding: utf-8 -*-\n",
        "\n",
        "import math\n",
        "import time \n",
        "\n",
        "class Complejidad_algoritmica:\n",
        "\tdef __init__(self, n):\n",
        "\t\tself.n = n\n",
        "\n",
        "\tdef constante(self):\n",
        "\t\treturn 1\n",
        "\n",
        "\tdef logaritmica(self):\n",
        "\t\treturn math.log10(self.n)\n",
        "\n",
        "\tdef lineal(self):\n",
        "\t\treturn self.n\n",
        "\n",
        "\tdef log_lineal(self):\t\n",
        "\t\treturn self.n * math.log10(self.n)\n",
        "\n",
        "\tdef\tpolinomial(self):\n",
        "\t\treturn self.n**2\n",
        "\n",
        "\tdef\texponencial(self):\n",
        "\t\treturn 2**self.n\n",
        "\n",
        "\n",
        "def main():\n",
        "\t\n",
        "    nums = [1, 10, 100, 1000, 10000]\n",
        "    \n",
        "    for n in nums:\n",
        "        \n",
        "        complejidad = Complejidad_algoritmica(n)\n",
        "        \n",
        "        print('n es igual a: {}'.format(n))\n",
        "        \n",
        "        principio = time.time()\n",
        "        print(f'El resultado de complejidad constante para n igual a {n} es: ', complejidad.constante())\n",
        "        fin = time.time()\n",
        "        tiempo = fin - principio\n",
        "        print(f'has tardado {tiempo} segundos\\n')\n",
        "        \n",
        "        principio = time.time()\n",
        "        print(f'El resultado de complejidad logaritmica para n igual a {n} es: ', complejidad.logaritmica())\n",
        "        fin = time.time()\n",
        "        tiempo = fin - principio\n",
        "        print(f'has tardado {tiempo} segundos\\n')\n",
        "        \n",
        "        principio = time.time()\n",
        "        print(f'El resultado de complejidad lineal para n igual a {n} es: ', complejidad.lineal())\n",
        "        fin = time.time()\n",
        "        tiempo = fin - principio\n",
        "        print(f'has tardado {tiempo} segundos\\n')\n",
        "        \n",
        "        principio = time.time()\n",
        "        print(f'El resultado de complejidad logaritmica lineal para n igual a {n} es: ', complejidad.log_lineal())\n",
        "        fin = time.time()\n",
        "        tiempo = fin - principio\n",
        "        print(f'has tardado {tiempo} segundos\\n')\n",
        "        \n",
        "        principio = time.time()\n",
        "        print(f'El resultado de complejidad polinomial para n igual a {n} es: ', complejidad.polinomial())\n",
        "        fin = time.time()\n",
        "        tiempo = fin - principio\n",
        "        print(f'has tardado {tiempo} segundos\\n')\n",
        "       \n",
        "        principio = time.time()\n",
        "        print(f'El resultado de complejidad exponencial para n igual a {n} es: ', complejidad.exponencial())\n",
        "        fin = time.time()\n",
        "        tiempo = fin - principio\n",
        "        print(f'has tardado {tiempo} segundos\\n')\n",
        "        \n",
        "        print('\\n\\n')\n",
        "        \n",
        "\t    \n",
        "\n",
        "if __name__ == '__main__':\n",
        "    \n",
        "    main()```"
      ],
      "metadata": {
        "id": "JBvpVbuZEajr"
      },
      "execution_count": null,
      "outputs": []
    },
    {
      "cell_type": "code",
      "source": [],
      "metadata": {
        "id": "9PSZiIsuEs9z"
      },
      "execution_count": null,
      "outputs": []
    },
    {
      "cell_type": "code",
      "source": [],
      "metadata": {
        "id": "oIaRernlElXh"
      },
      "execution_count": null,
      "outputs": []
    },
    {
      "cell_type": "code",
      "source": [],
      "metadata": {
        "id": "ewh46RZwuUYB"
      },
      "execution_count": null,
      "outputs": []
    },
    {
      "cell_type": "markdown",
      "source": [],
      "metadata": {
        "id": "8MQ5jqbBMhpc"
      }
    },
    {
      "cell_type": "code",
      "source": [],
      "metadata": {
        "id": "tIrvbY6AuUUm"
      },
      "execution_count": null,
      "outputs": []
    },
    {
      "cell_type": "code",
      "source": [],
      "metadata": {
        "id": "5JHu5LfDuUQj"
      },
      "execution_count": null,
      "outputs": []
    },
    {
      "cell_type": "code",
      "source": [],
      "metadata": {
        "id": "Ye2isEtmuUNG"
      },
      "execution_count": null,
      "outputs": []
    },
    {
      "cell_type": "code",
      "source": [],
      "metadata": {
        "id": "zwgujW7huUIi"
      },
      "execution_count": null,
      "outputs": []
    },
    {
      "cell_type": "code",
      "source": [],
      "metadata": {
        "id": "St5uGkDXuUFI"
      },
      "execution_count": null,
      "outputs": []
    },
    {
      "cell_type": "code",
      "source": [],
      "metadata": {
        "id": "as0I9Q_5ttZG"
      },
      "execution_count": null,
      "outputs": []
    }
  ]
}