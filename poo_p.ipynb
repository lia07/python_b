{
  "nbformat": 4,
  "nbformat_minor": 0,
  "metadata": {
    "colab": {
      "provenance": [],
      "authorship_tag": "ABX9TyPZSjAOtvKz7ENrIriSanTo",
      "include_colab_link": true
    },
    "kernelspec": {
      "name": "python3",
      "display_name": "Python 3"
    },
    "language_info": {
      "name": "python"
    }
  },
  "cells": [
    {
      "cell_type": "markdown",
      "metadata": {
        "id": "view-in-github",
        "colab_type": "text"
      },
      "source": [
        "<a href=\"https://colab.research.google.com/github/lia07/python_b/blob/main/poo_p.ipynb\" target=\"_parent\"><img src=\"https://colab.research.google.com/assets/colab-badge.svg\" alt=\"Open In Colab\"/></a>"
      ]
    },
    {
      "cell_type": "code",
      "execution_count": null,
      "metadata": {
        "id": "KyH8mR95HCeC"
      },
      "outputs": [],
      "source": []
    },
    {
      "cell_type": "markdown",
      "source": [
        "# **Objetivos**\n",
        "\n",
        "* Entender como funciona la Progrmacion Orientada a Objetos\n",
        "* Entender como medir la eficiencia temporal y espacial de nuestros algoritmos.\n",
        "* Entender como y por qué graficar.\n",
        "* Aprender a resolver problemas de busqueda, ordenacion y optimizacion."
      ],
      "metadata": {
        "id": "HZxv_mqYUlQw"
      }
    },
    {
      "cell_type": "markdown",
      "source": [
        "# **Atributos de la instancia**\n",
        "\n",
        "Todas las clases crean objetos y todos los objetos tienen atributos. Utilizamos el método especial __init__ para definir el estado inicial de nuestra instancia. Recibe como primer parámetro obligatorio self (que es simplemente una referencia a la instancia)."
      ],
      "metadata": {
        "id": "5vgUhjiZH9M_"
      }
    },
    {
      "cell_type": "code",
      "source": [
        "class Hotel:\n",
        "    \n",
        "    def __init__(self, numero_maximo_de_huespedes, lugares_de_estacionamiento):\n",
        "        self.numero_maximo_de_huespedes = numero_maximo_de_huespedes\n",
        "        self.lugares_de_estacionamiento = lugares_de_estacionamiento\n",
        "        self.huespedes = 0\n",
        "\n",
        "\n",
        "hotel = Hotel(numero_maximo_de_huespedes=50, lugares_de_estacionamiento=20)\n",
        "print(hotel.lugares_de_estacionamiento) # 20"
      ],
      "metadata": {
        "id": "6Rdu9bchHV1b"
      },
      "execution_count": null,
      "outputs": []
    },
    {
      "cell_type": "markdown",
      "source": [
        "# **Tipos de datos abstractos**\n",
        "\n",
        "\n",
        "* En python todo es un objeto y tiene un tipo.\n",
        "\n",
        "   * Representacion de datos y formas de interactuar con ellos.\n",
        "\n",
        "* Formas de interactuar con un objeto:\n",
        "\n",
        "   * Creacion\n",
        "   * Manipulacion\n",
        "   * Destruccion\n",
        "\n",
        "                pda"
      ],
      "metadata": {
        "id": "BUZUppmuOn3h"
      }
    },
    {
      "cell_type": "markdown",
      "source": [
        "# **Ventajas**\n",
        "\n",
        "*   Decomposicion\n",
        "*   Abstraccion\n",
        "*   Encapsulacion\n",
        "\n",
        "\n",
        "\n",
        "\n"
      ],
      "metadata": {
        "id": "qDIyunLeWnyd"
      }
    },
    {
      "cell_type": "code",
      "source": [
        "#definicion de clase\n",
        "\n",
        "class <nombre_de_la_clase>(<super_clase>):\n",
        "\n",
        "  def __init__(self, <params>):\n",
        "    <expresion>\n",
        "\n",
        "  def <nombre_del_metood>(self, <params>):\n",
        "    <expresion>\n",
        "    "
      ],
      "metadata": {
        "id": "YUGMmkawV8xe"
      },
      "execution_count": null,
      "outputs": []
    },
    {
      "cell_type": "code",
      "source": [
        "#definicion de clase\n",
        "\n",
        "class <nombre_de_la_clase>(<super_clase>):\n",
        "\n",
        "  def __init__(self, <params>):\n",
        "    <expresion>\n",
        "\n",
        "  def <nombre_del_metood>(self, <params>):\n",
        "    <expresion>"
      ],
      "metadata": {
        "id": "mos4h9y4V8tu"
      },
      "execution_count": null,
      "outputs": []
    },
    {
      "cell_type": "code",
      "source": [
        "#definicion\n",
        "class Persona:\n",
        "  def __init__(self, nombre, edad):\n",
        "    self.nombre = nombre\n",
        "    self.edad = edad\n",
        "\n",
        "  def saluda(self, otra_persona):\n",
        "    return f 'hola {otra_persona.nombre, me llamo {self.nombre}}'\n",
        "\n",
        "#uso\n",
        "\n",
        ">>> david = Persona('David', 35)\n",
        ">>> erika = Persona('Erika', 32)\n",
        "\n",
        ">>> david.saluda(erika)\n",
        "'Hola Erika, me llamo David'\n"
      ],
      "metadata": {
        "id": "sq8BlJvmV8pe"
      },
      "execution_count": null,
      "outputs": []
    },
    {
      "cell_type": "markdown",
      "source": [
        "# **Instancias**\n",
        "\n",
        "* Mientras que la clase es un molde, a los objetos creados se les conoce como instancias.\n",
        "* Cuando se crea una instancia, se ejecuta el metodo *__init__*\n",
        "* Todos los metodos de una clase reciben implicitamente como primer parametro *self*\n",
        "\n",
        "        pda"
      ],
      "metadata": {
        "id": "Cr-BOibkXSCD"
      }
    },
    {
      "cell_type": "markdown",
      "source": [
        "# **Instancias**\n",
        "\n",
        "* Los atributos de clase nos permiten:\n",
        "    * Representar datos\n",
        "    * Procedimientos para interactuar con los mismos (metodos)\n",
        "    * Mecanismos para esconder la representacion interna.\n",
        "\n",
        "* Se accede a los atributos con la notacion de punto.\n",
        "* Puede tener atributos privados. Por convencion comienzan con _\n",
        "\n",
        "      pda"
      ],
      "metadata": {
        "id": "A4ZfCQ5NX-s7"
      }
    },
    {
      "cell_type": "code",
      "source": [
        "#Instancias\n",
        "class Coordenada:\n",
        "  def __init__(self, x, y):\n",
        "    self.x = x\n",
        "    self.y = y\n",
        "\n",
        "  def distancia(self, otra_coordenada):\n",
        "    x_diff = (self.x - otra_coordenada.x)**2\n",
        "    y_diff = (self.y- otra_coordenada.y)**2\n",
        "\n",
        "    return(x_diff + y_diff)**0.5\n",
        "\n",
        "\n",
        "if __name__ == '__main__':\n",
        "  coord_1 = Coordenada(3, 30)\n",
        "  coord_2 = Coordenada(4, 8)\n",
        "\n",
        "  #print(coord_1.distancia(coord_2))\n",
        "  print(isinstance(coord_2, Coordenada))\n"
      ],
      "metadata": {
        "colab": {
          "base_uri": "https://localhost:8080/"
        },
        "id": "OnGVZda14UHV",
        "outputId": "2b0e0794-be8b-4028-c519-dbb3ef7c12fb"
      },
      "execution_count": null,
      "outputs": [
        {
          "output_type": "stream",
          "name": "stdout",
          "text": [
            "True\n"
          ]
        }
      ]
    },
    {
      "cell_type": "markdown",
      "source": [
        "# **Decomposicion**\n",
        "\n",
        "* Partir un problema en problemas mas pequeños\n",
        "* Las clases permiten crear mayores abstracciones en forma de componentes.\n",
        "* Cada clase se encarga de una parte del problema y el programa se vuelve mas facil de mantener.\n",
        "                     pda"
      ],
      "metadata": {
        "id": "DuPgDShBWGON"
      }
    },
    {
      "cell_type": "code",
      "source": [
        "#descomposicion\n",
        "\n",
        "class Automovil:\n",
        "\n",
        "  def __init__(self, modelo, marca, color):\n",
        "    self.modelo = modelo\n",
        "    self.marca = marca\n",
        "    self.color = color \n",
        "    self._estado = 'en_reposo'\n",
        "    self._motor = Motor(cilindros = 4)\n",
        "\n",
        "\n",
        "class Motor:\n",
        "\n",
        "  def __init__(self, cilindros, tipo='gasolina'):\n",
        "    self.cilindros = cilindros\n",
        "    self.tipo = tipo\n",
        "    self._temperatura = 0\n",
        "\n",
        "  def inyecta_gasolina(self, cantidad):\n",
        "    pass"
      ],
      "metadata": {
        "id": "3udW6Sx63LKc"
      },
      "execution_count": null,
      "outputs": []
    },
    {
      "cell_type": "markdown",
      "source": [
        "# **Abstraccion**"
      ],
      "metadata": {
        "id": "rRla1Ye1QX9a"
      }
    },
    {
      "cell_type": "markdown",
      "source": [
        "# **Abstraccion**\n",
        "\n",
        "* Enfocarnos en la informaion relevante.\n",
        "* Separar la informacion central de los detalle secundarios.\n",
        "* Podemos utilizar variables y metodos(privados o publicos)\n",
        "\n",
        "            pda"
      ],
      "metadata": {
        "id": "QGs8qhcLQlWr"
      }
    },
    {
      "cell_type": "code",
      "source": [
        "#abstraccion\n",
        "#def _lavar(self): metodo privado (-)\n",
        "#def lavar(self): metodo publico \n",
        "\n",
        "class Lavadora:\n",
        "\n",
        "  def __init__(self):\n",
        "    pass\n",
        "\n",
        "  def lavar(self, temperatura = 'caliente'):\n",
        "    self._llenar_tanque_de_agua(temperatura)\n",
        "    self._anadir_jabon()\n",
        "    self._lavar()\n",
        "    self._centrifugar()\n",
        "    \n",
        "  def _llenar_tanque_de_agua(self, temperatura):\n",
        "    print(f'Llenando el tanque con agua {temperatura}')\n",
        "\n",
        "  def _anadir_jabon(self):\n",
        "    print('Anadiendo jabon')\n",
        "\n",
        "  def _lavar(self):\n",
        "    print('Lavando ropa')\n",
        "\n",
        "  def _lavar(self):\n",
        "    print('Centrifugando la ropa')\n",
        "\n",
        "if __name__  == '__main__':\n",
        "  lavadora = Lavadora()\n",
        "  lavadora.lavar()\n",
        "      \n",
        "  "
      ],
      "metadata": {
        "id": "lJgHd-6n3vfp"
      },
      "execution_count": null,
      "outputs": []
    },
    {
      "cell_type": "code",
      "source": [
        "class Biblioteca:\n",
        "    def __init__(self, nombre):\n",
        "        self.nombre = nombre\n",
        "        self._libros = []\n",
        "\n",
        "    def consultar_nombre_biblioteca(self):\n",
        "        return self.nombre\n",
        "\n",
        "    def agregar_libro(self, libro):\n",
        "        self._libros.append({\n",
        "            libro.titulo,\n",
        "            libro.autor,\n",
        "            libro.cantidad_de_paginas,\n",
        "            libro.genero,\n",
        "            libro.sinopsis\n",
        "        })\n",
        "\n",
        "    def consultar_libros(self):\n",
        "        return self._libros\n",
        "\n",
        "    def consultar_libro(self, id):\n",
        "        return self._libros[id]\n",
        "\n",
        "    def quitar_libro(self, id):\n",
        "        self._libros.pop(id)"
      ],
      "metadata": {
        "id": "YsnWvkI9e1uI"
      },
      "execution_count": null,
      "outputs": []
    },
    {
      "cell_type": "markdown",
      "source": [
        "# **Funciones como objetos de primera-clase**\n",
        "\n",
        "Otro concepto importante a tener en cuenta es que en Python las funciones son objetos de primera-clase, es decir, que pueden ser pasados y utilizados como argumentos al igual que cualquier otro objeto (strings, enteros, flotantes, listas, etc.).\n",
        "\n",
        "Veamos un ejemplo donde definimos 3 diferentes funciones que utilizaremos de manera conjunta:"
      ],
      "metadata": {
        "id": "6vhopOaxsXp2"
      }
    },
    {
      "cell_type": "code",
      "source": [
        "def presentarse(nombre):\n",
        "\treturn f\"Me llamo {nombre}\"\n",
        "\n",
        "def estudiemos_juntos(nombre):\n",
        "\treturn f\"¡Hey {nombre}, aprendamos Python!\"\n",
        "\n",
        "def consume_funciones(funcion_entrante):\n",
        "\treturn funcion_entrante(\"David\")"
      ],
      "metadata": {
        "id": "0P4BcLope1W1"
      },
      "execution_count": null,
      "outputs": []
    },
    {
      "cell_type": "markdown",
      "source": [
        "# **Funciones anidadas**\n",
        "\n",
        "Al igual que los condicionales y bucles también puedes colocar funciones dentro de otra función.\n",
        "\n",
        "Tómate un minuto para analizar el siguiente código e inferir cuál será el resultado de salida:"
      ],
      "metadata": {
        "id": "pHUky45psmO6"
      }
    },
    {
      "cell_type": "code",
      "source": [
        "def funcion_mayor():\n",
        "\tprint(\"Esta es una función mayor y su mensaje de salida.\")\n",
        "\n",
        "\tdef librerias():\n",
        "\t\tprint(\"Algunas librerías de Python son: Scikit-learn, NumPy y TensorFlow.\")\n",
        "\n",
        "\tdef frameworks():\n",
        "\t\tprint(\"Algunos frameworks de Python son: Django, Dash y Flask.\")\n",
        "\n",
        "\tframeworks()\n",
        "\tlibrerias()"
      ],
      "metadata": {
        "id": "3x57tAEjV8lr"
      },
      "execution_count": null,
      "outputs": []
    },
    {
      "cell_type": "markdown",
      "source": [
        "# **Setters, getters y decorador property**\n",
        "\n",
        "\n",
        "En este punto estamos comenzando a utilizar conceptos en Python que comienzan a ser más avanzados, por lo que es normal que puedan parecerte complejos o difíciles de asimilar, así que te animo a que los repases un par de veces.\n",
        "\n",
        "Puedes tener la tranquilidad de que si bien, al inicio, no los implementas en su totalidad, podrás seguir avanzando en el curso y poco a poco incorporarlos a tus proyectos donde lo más importante es que sepas que cuentas con estas herramientas.\n",
        "\n",
        "Entendiendo el concepto de decorador\n",
        "Antes de comenzar me gustaría que analices el siguiente código:"
      ],
      "metadata": {
        "id": "Hgb2T9mKs07J"
      }
    },
    {
      "cell_type": "code",
      "source": [
        "def funcion_decoradora(funcion):\n",
        "\tdef wrapper():\n",
        "\t\tprint(\"Este es el último mensaje...\")\n",
        "\t\tfuncion()\n",
        "\t\tprint(\"Este es el primer mensaje ;)\")\n",
        "\treturn wrapper\n",
        "\n",
        "def zumbido():\n",
        "\tprint(\"Buzzzzzz\")\n",
        "\n",
        "zumbido = funcion_decoradora(zumbido)"
      ],
      "metadata": {
        "id": "B11xKa8XV8hT"
      },
      "execution_count": null,
      "outputs": []
    },
    {
      "cell_type": "markdown",
      "source": [
        "# **Utilizando getters y setters**\n",
        "\n",
        "Incluyamos un par de métodos para obtener la distancia y otro para que no acepte valores inferiores a cero, pues no tendría sentido que un vehículo recorra una distancia negativa. Estos son métodos getters y setters:"
      ],
      "metadata": {
        "id": "kwKBtT_AtLpx"
      }
    },
    {
      "cell_type": "code",
      "source": [
        "class Millas:\n",
        "\tdef __init__(self, distancia = 0):\n",
        "\t\tself.distancia = distancia\n",
        "\n",
        "\tdef convertir_a_kilometros(self):\n",
        "\t\treturn (self.distancia * 1.609344)\n",
        "\n",
        "\t# Método getter\n",
        "\tdef obtener_distancia(self):\n",
        "\t\treturn self._distancia\n",
        "\n",
        "\t# Método setter\n",
        "\tdef definir_distancia(self, valor):\n",
        "\t\tif valor < 0:\n",
        "\t\t\traise ValueError(\"No es posible convertir distancias menores a 0.\")\n",
        "\t\tself._distancia = valor\n",
        "    "
      ],
      "metadata": {
        "id": "rPij22YyHWaA"
      },
      "execution_count": null,
      "outputs": []
    },
    {
      "cell_type": "markdown",
      "source": [
        "# **Función property()**\n",
        "\n",
        "Esta función está incluida en Python, en particular crea y retorna la propiedad de un objeto. La propiedad de un objeto posee los métodos getter(), setter() y del().\n",
        "\n",
        "En tanto, la función tiene cuatro atributos: property(fget, fset, fdel, fdoc):\n",
        "\n",
        "fget: trae el valor de un atributo.\n",
        "fset: define el valor de un atributo.\n",
        "fdel: elimina el valor de un atributo.\n",
        "fdoc: crea un docstring por atributo.\n",
        "Veamos un ejemplo del mismo caso implementando la función property():"
      ],
      "metadata": {
        "id": "1T_Q1tHbtZkR"
      }
    },
    {
      "cell_type": "code",
      "source": [
        "class Millas:\n",
        "\tdef __init__(self):\n",
        "\t\tself._distancia = 0\n",
        "\n",
        "\t# Función para obtener el valor de _distancia\n",
        "\tdef obtener_distancia(self):\n",
        "\t\tprint(\"Llamada al método getter\")\n",
        "\t\treturn self._distancia\n",
        "\n",
        "\t# Función para definir el valor de _distancia\n",
        "\tdef definir_distancia(self, recorrido):\n",
        "\t\tprint(\"Llamada al método setter\")\n",
        "\t\tself._distancia = recorrido\n",
        "\n",
        "\t# Función para eliminar el atributo _distancia\n",
        "\tdef eliminar_distancia(self):\n",
        "\t\tdel self._distancia\n",
        "\n",
        "\tdistancia = property(obtener_distancia, definir_distancia, eliminar_distancia)\n",
        "\n",
        "# Creamos un nuevo objeto\n",
        "avion = Millas()\n",
        "\n",
        "# Indicamos la distancia\n",
        "avion.distancia = 200\n",
        "\n",
        "# Obtenemos su atributo distancia\n",
        ">>> print(avion.distancia)\n",
        "Llamada al método getter\n",
        "Llamada al método setter\n",
        "200"
      ],
      "metadata": {
        "id": "v5p-dQRFV67h"
      },
      "execution_count": null,
      "outputs": []
    },
    {
      "cell_type": "markdown",
      "source": [
        "# **Decorador @property**\n",
        "Este decorador es uno de varios con los que ya cuenta Python, el cual nos permite utilizar getters y setters para hacer más fácil la implementación de la programación orientada a objetos en Python cambiando los métodos o atributos de las clases de forma que no modifiquemos el código.\n",
        "\n",
        "Pero mejor veamos un ejemplo en acción:"
      ],
      "metadata": {
        "id": "7dZJyY3Ftk7I"
      }
    },
    {
      "cell_type": "code",
      "source": [
        "class Millas:\n",
        "\tdef __init__(self):\n",
        "\t\tself._distancia = 0\n",
        "\n",
        "\t# Función para obtener el valor de _distancia\n",
        "\t# Usando el decorador property\n",
        "\t@property\n",
        "\tdef obtener_distancia(self):\n",
        "\t\tprint(\"Llamada al método getter\")\n",
        "\t\treturn self._distancia\n",
        "\n",
        "\t# Función para definir el valor de _distancia\n",
        "\t@obtener_distancia.setter\n",
        "\tdef definir_distancia(self, valor):\n",
        "\t\tif valor < 0:\n",
        "\t\t\traise ValueError(\"No es posible convertir distancias menores a 0.\")\n",
        "\t\tprint(\"Llamada al método setter\")\n",
        "\t\tself._distancia = valor\n",
        "\n",
        "# Creamos un nuevo objeto\n",
        "avion = Millas()\n",
        "\n",
        "# Indicamos la distancia\n",
        "avion.distancia = 200\n",
        "\n",
        "# Obtenemos su atributo distancia\n",
        ">>> print(avion.definir..distancia)\n",
        "Llamada al método getter\n",
        "Llamada al método setter\n",
        "200"
      ],
      "metadata": {
        "id": "oVk6ndrtHWW-"
      },
      "execution_count": null,
      "outputs": []
    },
    {
      "cell_type": "markdown",
      "source": [
        "# **Encapsulacion**\n",
        "\n",
        "*   Permite agrupar datos y su comportamiento\n",
        "*   Controla el acceso a dichos datos\n",
        "*   Previene modificaciones no autorizadas\n",
        "\n",
        "\n",
        "\n"
      ],
      "metadata": {
        "id": "2ZyHPktTt6h0"
      }
    },
    {
      "cell_type": "code",
      "source": [
        "class CasillaDeVotacion:\n",
        "  def __init__(self, identifi)"
      ],
      "metadata": {
        "id": "j1uWg4fQtt59"
      },
      "execution_count": null,
      "outputs": []
    },
    {
      "cell_type": "markdown",
      "source": [
        "# **HERENCIA**"
      ],
      "metadata": {
        "id": "7IrTDVXmjdSs"
      }
    },
    {
      "cell_type": "code",
      "source": [
        "class Rectangulo:\n",
        "\n",
        "    def __init__(self, base, altura):\n",
        "        self.base = base\n",
        "        self.altura = altura\n",
        "\n",
        "    def area(self):\n",
        "        return self.base * self.altura\n",
        "\n",
        "class Cuadrado(Rectangulo):\n",
        "\n",
        "    def __init__(self, lado):\n",
        "        super().__init__(lado, lado)\n",
        "\n",
        "\n",
        "if __name__ == '__main__':\n",
        "    rectangulo = Rectangulo(base=3, altura=4)\n",
        "    print(rectangulo.area())\n",
        "\n",
        "    cuadrado = Cuadrado(lado=5)\n",
        "    print(cuadrado.area())"
      ],
      "metadata": {
        "id": "DLaLo8zhttgj"
      },
      "execution_count": null,
      "outputs": []
    },
    {
      "cell_type": "markdown",
      "source": [
        "# **POLOMORFISMO**"
      ],
      "metadata": {
        "id": "AVoIrvFdpyMh"
      }
    },
    {
      "cell_type": "code",
      "source": [
        "class Persona:\n",
        "\n",
        "    def __init__(self, nombre):\n",
        "        self.nombre = nombre\n",
        "\n",
        "    def avanza(self):\n",
        "        print('Ando caminando')\n",
        "\n",
        "\n",
        "class Ciclista(Persona):\n",
        "\n",
        "    def __init__(self, nombre):\n",
        "        super().__init__(nombre)\n",
        "\n",
        "    def avanza(self):\n",
        "        print('Ando moviendome en mi bicicleta')\n",
        "\n",
        "\n",
        "def main():\n",
        "    persona = Persona('David')\n",
        "    persona.avanza()\n",
        "\n",
        "    ciclista = Ciclista('Daniel')\n",
        "    ciclista.avanza()\n",
        "\n",
        "\n",
        "if __name__ == '__main__':\n",
        "    main()"
      ],
      "metadata": {
        "id": "tZ8iSwKSttdA"
      },
      "execution_count": null,
      "outputs": []
    },
    {
      "cell_type": "code",
      "source": [],
      "metadata": {
        "id": "as0I9Q_5ttZG"
      },
      "execution_count": null,
      "outputs": []
    }
  ]
}